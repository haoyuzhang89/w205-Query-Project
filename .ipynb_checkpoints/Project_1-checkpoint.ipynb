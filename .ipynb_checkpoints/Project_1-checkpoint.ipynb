{
 "cells": [
  {
   "cell_type": "markdown",
   "metadata": {},
   "source": [
    "# W205 2020 Fall Project 1: Query Project \n"
   ]
  },
  {
   "cell_type": "markdown",
   "metadata": {},
   "source": [
    "## Abstract \n",
    "\n",
    "(USE THESE TABLES!) The static tables we will be using in this class are in the dataset san_francisco :\n",
    "\n",
    "bikeshare_stations\n",
    "\n",
    "bikeshare_status\n",
    "\n",
    "bikeshare_trips"
   ]
  },
  {
   "cell_type": "markdown",
   "metadata": {},
   "source": [
    "## Part 1 - Querying Data with BigQuery"
   ]
  },
  {
   "cell_type": "markdown",
   "metadata": {},
   "source": [
    "### Initial Questions\n",
    "\n",
    "1. What's the size of this dataset? (i.e., how many trips)\n",
    "   * Answer:\n",
    "     - There are 74 stations in the table of bikeshare_stations. In addition, all rows are distinct stations in the table. \n",
    "     - There are 107501619 status records in the table of san_francisco.bikeshare_status.\n",
    "     - There are 983648 trips in record in the table of san_francisco.bikeshare_trips. In addition, all the trip IDs in record are distinct.\n",
    "     \n",
    " \n",
    "   * SQL query:\n",
    "   \n",
    "```sql \n",
    "    #standardSQL\n",
    "    select count(station_id)\n",
    "    from `bigquery-public-data.san_francisco.bikeshare_stations`\n",
    "```  \n",
    "\n",
    "Row | StationsSize\n",
    "--- | ------------\n",
    "1   | 74\n",
    "\n",
    "    \n",
    "```sql\n",
    "    #standardSQL\n",
    "    select count(distinct station_id) as StationsNumber\n",
    "    from `bigquery-public-data.san_francisco.bikeshare_stations`\n",
    "```\n",
    "    \n",
    "Row | StationsNumber\n",
    "--- | --------------\n",
    "1\t| 74\n",
    "\n",
    "```sql\n",
    "    #standardSQL\n",
    "    select count(*) as StatusNumber\n",
    "    from `bigquery-public-data.san_francisco.bikeshare_status`\n",
    "```\n",
    "\n",
    "Row | StatusNumber\n",
    "--- | --------------\n",
    "1\t|107501619\n",
    "\n",
    "```sql\n",
    "    #standardSQL\n",
    "    select count(*) as TripsSize\n",
    "    from `bigquery-public-data.san_francisco.bikeshare_trips`\n",
    "```\n",
    "Row | TripsSize\t\n",
    "--- | ---------\n",
    "1\t| 983648\n",
    "\n",
    "```sql\n",
    "    #standardSQL\n",
    "    select count(distinct trip_id) as TripsNumber\n",
    "    from `bigquery-public-data.san_francisco.bikeshare_trips`\n",
    "```\n",
    "Row\t| TripsNumber\t\n",
    "--- | -----------\n",
    "1\t| 983648\n"
   ]
  },
  {
   "cell_type": "markdown",
   "metadata": {},
   "source": [
    "### Author's own Questions \n",
    "2. What is the earliest start date and time and latest end date and time for a trip?\n",
    "   * Answer:\n",
    " \n",
    "   * SQL query:\n",
    "\n",
    "```sql\n",
    "#standardSQL\n",
    "select min(start_date) as EarlyTime\n",
    "from `bigquery-public-data.san_francisco.bikeshare_trips`\n",
    "```\n",
    "Row\t| EarlyTime\t\n",
    "--- | ---------\n",
    "1\t| 2013-08-29 09:08:00 UTC\n",
    "\n",
    "```sql\n",
    "#standardSQL\n",
    "select max(end_date) as LateTime\n",
    "from `bigquery-public-data.san_francisco.bikeshare_trips`\n",
    "```\n",
    "Row | LateTime\t\n",
    "--- | --------\n",
    "1\t| 2016-08-31 23:48:00 UTC"
   ]
  },
  {
   "cell_type": "markdown",
   "metadata": {},
   "source": [
    "3. How many bikes are there?\n",
    "\n",
    "bike_number is the ID of bike used. \n",
    "```sql\n",
    "#standardSQL\n",
    "select count(distinct bike_number) as BikesNumber\n",
    "from `bigquery-public-data.san_francisco.bikeshare_trips`\n",
    "```\n",
    "\n",
    "Row | BikesNumber\t\n",
    "--- | -----------\n",
    "1\t| 700\n",
    "\n",
    "\n",
    "```sql\n",
    "#standardSQL\n",
    "select sum (bikes_available) as total_available, time from `bigquery-public-data.san_francisco.bikeshare_status`\n",
    "group by time\n",
    "order by total_available DESC\n",
    "```\n",
    "Row | total_available | time\n",
    "--- | --------------- | ----\n",
    "1\t| 641 | 2014-11-01 03:56:02 UTC\n",
    "2\t| 640 | 2014-11-01 00:33:03 UTC\n",
    "3\t| 640 | 2014-11-01 01:18:03 UTC\n",
    "4\t| 640 | 2014-11-01 06:20:02 UTC\n",
    "5\t| 640 | 2014-11-01 03:48:03 UTC\n"
   ]
  },
  {
   "cell_type": "markdown",
   "metadata": {},
   "source": [
    "Questions of your own\n",
    "Make up 3 questions and answer them using the Bay Area Bike Share Trips Data. These questions MUST be different than any of the questions and queries you ran above.\n",
    "\n",
    "Question 1: In which zip code area, there are the most share trips?\n",
    "\n",
    "Answer: 94107, with 106913 trips\n",
    "SQL query:\n",
    "```sql\n",
    "#standardSQL\n",
    "select count (distinct trip_id) as trips_number, zip_code from `bigquery-public-data.san_francisco.bikeshare_trips`\n",
    "group by zip_code\n",
    "order by trips_number DESC\n",
    "```\n",
    "Row\t| trips_number | zip_code\t\n",
    "--- | ------------ | --------\n",
    "1\t| 106913 | 94107\n",
    "2\t| 61232 | 94105\n",
    "3\t| 46544 | 94133\n",
    "4\t| 38072 | 94103\n",
    "5\t| 33642 | 94111\n",
    "\n",
    "\n",
    "Question 2: Which station is the most popular as a start station, and end station. \n",
    "\n",
    "Answer: San Francisco Caltrain (Townsend at 4th) is the most popular as both start station and end station;\n",
    "\n",
    "SQL query:\n",
    "```sql\n",
    "#standardSQL\n",
    "select count (*) as trips_number, start_station_name from `bigquery-public-data.san_francisco.bikeshare_trips`\n",
    "group by start_station_id, start_station_name\n",
    "order by trips_number DESC\n",
    "```\n",
    "\n",
    "Row | trips_number | start_station_name\t\n",
    "--- | ------------ | ------------------\n",
    "1 |\t72683 | San Francisco Caltrain (Townsend at 4th)\n",
    "2 |\t56100 | San Francisco Caltrain 2 (330 Townsend)\n",
    "3 | 49062 | Harry Bridges Plaza (Ferry Building)\n",
    "4 | 41137 | Embarcadero at Sansome\n",
    "5 | 39936 | 2nd at Townsend\n",
    "\n",
    "```sql\n",
    "#standardSQL\n",
    "select count (*) as trips_number, end_station_name from `bigquery-public-data.san_francisco.bikeshare_trips`\n",
    "group by end_station_id, end_station_name\n",
    "order by trips_number DESC\n",
    "```\n",
    "Row\t| trips_number | end_station_name\n",
    "--- | ------------ | ----------------\n",
    "1\t| 92014      | San Francisco Caltrain (Townsend at 4th)\n",
    "2\t| 58713      | San Francisco Caltrain 2 (330 Townsend)\n",
    "3\t| 50185      | Harry Bridges Plaza (Ferry Building)\n",
    "4\t| 46197      | Embarcadero at Sansome\n",
    "5\t| 44145      | 2nd at Townsend\n",
    "\n",
    "\n",
    "Question 3: What is the longest and shortest duration of the trip?\n",
    "\n",
    "Answer: The longest trip is 17270400 seconds, \n",
    "SQL query:\n",
    "\n",
    "```sql\n",
    "#standardSQL\n",
    "select max (duration_sec) as max_duration_sec from `bigquery-public-data.san_francisco.bikeshare_trips`\n",
    "```\n",
    "Row\t| max_duration_sec\n",
    "--- | ----------------\n",
    "1\t| 17270400\n",
    "\n",
    "```sql\n",
    "#standardSQL\n",
    "select min (duration_sec) as min_duration_sec from `bigquery-public-data.san_francisco.bikeshare_trips`\n",
    "```\n",
    "Row\t| min_duration_sec\n",
    "--- | ----------------\n",
    "1\t| 60"
   ]
  },
  {
   "cell_type": "markdown",
   "metadata": {},
   "source": [
    "## Part 2\n",
    "\n",
    "### Queries\n",
    "\n",
    "1. Rerun the first 3 queries from Part 1 using bq command line tool (Paste your bq\n",
    "   queries and results here, using properly formatted markdown):\n",
    "\n",
    "  * What's the size of this dataset? (i.e., how many trips)\n",
    " "
   ]
  },
  {
   "cell_type": "code",
   "execution_count": 10,
   "metadata": {},
   "outputs": [
    {
     "name": "stdout",
     "output_type": "stream",
     "text": [
      "Waiting on bqjob_r63b6d123c5d4b877_00000174b8c4e556_1 ... (0s) Current status: DONE   \n",
      "+-----------------+\n",
      "| stations_number |\n",
      "+-----------------+\n",
      "|              74 |\n",
      "+-----------------+\n"
     ]
    }
   ],
   "source": [
    "! bq query --use_legacy_sql=false 'select count(distinct station_id) as stations_number from `bigquery-public-data.san_francisco.bikeshare_stations`' "
   ]
  },
  {
   "cell_type": "code",
   "execution_count": 11,
   "metadata": {},
   "outputs": [
    {
     "name": "stdout",
     "output_type": "stream",
     "text": [
      "Waiting on bqjob_r23b19363b111a48f_00000174b8c57318_1 ... (0s) Current status: DONE   \n",
      "+--------------+\n",
      "| trips_number |\n",
      "+--------------+\n",
      "|       983648 |\n",
      "+--------------+\n"
     ]
    }
   ],
   "source": [
    "! bq query --use_legacy_sql=false 'select count (distinct trip_id) as trips_number from `bigquery-public-data.san_francisco.bikeshare_trips`'"
   ]
  },
  {
   "cell_type": "code",
   "execution_count": 12,
   "metadata": {},
   "outputs": [
    {
     "name": "stdout",
     "output_type": "stream",
     "text": [
      "Waiting on bqjob_r6d813c9e01471ae6_00000174b8c5b790_1 ... (0s) Current status: DONE   \n",
      "+--------------+\n",
      "| StatusNumber |\n",
      "+--------------+\n",
      "|    107501619 |\n",
      "+--------------+\n"
     ]
    }
   ],
   "source": [
    "! bq query --use_legacy_sql=false 'select count(*) as StatusNumber from `bigquery-public-data.san_francisco.bikeshare_status`'"
   ]
  },
  {
   "cell_type": "markdown",
   "metadata": {},
   "source": [
    "  * What is the earliest start time and latest end time for a trip?\n"
   ]
  },
  {
   "cell_type": "code",
   "execution_count": 8,
   "metadata": {},
   "outputs": [
    {
     "name": "stdout",
     "output_type": "stream",
     "text": [
      "Waiting on bqjob_r4813061ba4935c0e_00000174b8c3e56b_1 ... (0s) Current status: DONE   \n",
      "+---------------------+---------------------+\n",
      "|      EarlyTime      |      LateTime       |\n",
      "+---------------------+---------------------+\n",
      "| 2013-08-29 09:08:00 | 2016-08-31 23:48:00 |\n",
      "+---------------------+---------------------+\n"
     ]
    }
   ],
   "source": [
    "! bq query --use_legacy_sql=false 'select min(start_date) as EarlyTime, max(end_date) as LateTime from `bigquery-public-data.san_francisco.bikeshare_trips`'"
   ]
  },
  {
   "cell_type": "markdown",
   "metadata": {},
   "source": [
    "  * How many bikes are there?"
   ]
  },
  {
   "cell_type": "code",
   "execution_count": 13,
   "metadata": {},
   "outputs": [
    {
     "name": "stdout",
     "output_type": "stream",
     "text": [
      "Waiting on bqjob_r25c05662f561d17a_00000174b8c68572_1 ... (0s) Current status: DONE   \n",
      "+-------------+\n",
      "| BikesNumber |\n",
      "+-------------+\n",
      "|         700 |\n",
      "+-------------+\n"
     ]
    }
   ],
   "source": [
    "! bq query --use_legacy_sql=false 'select count(distinct bike_number) as BikesNumber from `bigquery-public-data.san_francisco.bikeshare_trips`'"
   ]
  },
  {
   "cell_type": "markdown",
   "metadata": {},
   "source": [
    "2. New Query (Run using bq and paste your SQL query and answer the question in a sentence, using properly formatted markdown):\n",
    "\n",
    "  * How many trips are in the morning vs in the afternoon?"
   ]
  },
  {
   "cell_type": "code",
   "execution_count": 36,
   "metadata": {},
   "outputs": [
    {
     "name": "stdout",
     "output_type": "stream",
     "text": [
      "Waiting on bqjob_r39020001cf5f2af2_00000174b8f7dcb3_1 ... (0s) Current status: DONE   \n",
      "+---------+------------+----------+\n",
      "| trip_id | start_time | end_time |\n",
      "+---------+------------+----------+\n",
      "|  944732 | pm         | pm       |\n",
      "|  984595 | pm         | pm       |\n",
      "|  984596 | pm         | pm       |\n",
      "| 1129385 | am         | pm       |\n",
      "| 1030383 | am         | pm       |\n",
      "| 1102641 | pm         | pm       |\n",
      "|  969490 | pm         | pm       |\n",
      "| 1129386 | am         | pm       |\n",
      "|  947105 | pm         | pm       |\n",
      "| 1011650 | pm         | pm       |\n",
      "+---------+------------+----------+\n"
     ]
    }
   ],
   "source": [
    "\n",
    "! bq query --use_legacy_sql=false 'SELECT trip_id, FORMAT_TIMESTAMP(\"%P\", start_date) AS start_time, FORMAT_TIMESTAMP(\"%P\", end_date) AS end_time, from `bigquery-public-data.san_francisco.bikeshare_trips` limit 10'"
   ]
  },
  {
   "cell_type": "markdown",
   "metadata": {},
   "source": [
    "398273 Trips that start time is am and end time is am. "
   ]
  },
  {
   "cell_type": "code",
   "execution_count": 46,
   "metadata": {},
   "outputs": [
    {
     "name": "stdout",
     "output_type": "stream",
     "text": [
      "Waiting on bqjob_r4b45d0f1d6f74fdd_00000174b9011177_1 ... (1s) Current status: DONE   \n",
      "+--------+\n",
      "|  f0_   |\n",
      "+--------+\n",
      "| 398273 |\n",
      "+--------+\n"
     ]
    }
   ],
   "source": [
    "! bq query --use_legacy_sql=false 'SELECT COUNT(DISTINCT TP.trip_id) FROM (SELECT trip_id, FORMAT_TIMESTAMP(\"%P\", start_date) AS start_time, FORMAT_TIMESTAMP(\"%P\", end_date) AS end_time, from `bigquery-public-data.san_francisco.bikeshare_trips`) AS TP where TP.start_time = \"am\" and TP.end_time = \"am\"'"
   ]
  },
  {
   "cell_type": "markdown",
   "metadata": {},
   "source": [
    "569438 Trip that start time is pm and end time is pm."
   ]
  },
  {
   "cell_type": "code",
   "execution_count": 47,
   "metadata": {},
   "outputs": [
    {
     "name": "stdout",
     "output_type": "stream",
     "text": [
      "Waiting on bqjob_r4d612d107c5df0a_00000174b9016c68_1 ... (1s) Current status: DONE   \n",
      "+--------+\n",
      "|  f0_   |\n",
      "+--------+\n",
      "| 569438 |\n",
      "+--------+\n"
     ]
    }
   ],
   "source": [
    "! bq query --use_legacy_sql=false 'SELECT COUNT(DISTINCT TP.trip_id) FROM (SELECT trip_id, FORMAT_TIMESTAMP(\"%P\", start_date) AS start_time, FORMAT_TIMESTAMP(\"%P\", end_date) AS end_time, from `bigquery-public-data.san_francisco.bikeshare_trips`) AS TP where TP.start_time = \"pm\" and TP.end_time = \"pm\"'"
   ]
  },
  {
   "cell_type": "markdown",
   "metadata": {},
   "source": [
    "14066 Trips that start time is am and end time is pm. "
   ]
  },
  {
   "cell_type": "code",
   "execution_count": 48,
   "metadata": {},
   "outputs": [
    {
     "name": "stdout",
     "output_type": "stream",
     "text": [
      "Waiting on bqjob_r73c155cf723ee1f8_00000174b901b3f3_1 ... (1s) Current status: DONE   \n",
      "+-------+\n",
      "|  f0_  |\n",
      "+-------+\n",
      "| 14066 |\n",
      "+-------+\n"
     ]
    }
   ],
   "source": [
    "! bq query --use_legacy_sql=false 'SELECT COUNT(DISTINCT TP.trip_id) FROM (SELECT trip_id, FORMAT_TIMESTAMP(\"%P\", start_date) AS start_time, FORMAT_TIMESTAMP(\"%P\", end_date) AS end_time, from `bigquery-public-data.san_francisco.bikeshare_trips`) AS TP where TP.start_time = \"am\" and TP.end_time = \"pm\"'"
   ]
  },
  {
   "cell_type": "markdown",
   "metadata": {},
   "source": [
    "1871 Trips that start time is pm and end time is am. "
   ]
  },
  {
   "cell_type": "code",
   "execution_count": 49,
   "metadata": {},
   "outputs": [
    {
     "name": "stdout",
     "output_type": "stream",
     "text": [
      "Waiting on bqjob_r2433257e70d1ead6_00000174b901f3f6_1 ... (1s) Current status: DONE   \n",
      "+------+\n",
      "| f0_  |\n",
      "+------+\n",
      "| 1871 |\n",
      "+------+\n"
     ]
    }
   ],
   "source": [
    "! bq query --use_legacy_sql=false 'SELECT COUNT(DISTINCT TP.trip_id) FROM (SELECT trip_id, FORMAT_TIMESTAMP(\"%P\", start_date) AS start_time, FORMAT_TIMESTAMP(\"%P\", end_date) AS end_time, from `bigquery-public-data.san_francisco.bikeshare_trips`) AS TP where TP.start_time = \"pm\" and TP.end_time = \"am\"'"
   ]
  },
  {
   "cell_type": "markdown",
   "metadata": {},
   "source": [
    "## Project Questions\n",
    "Identify the main questions you'll need to answer to make recommendations (list below, add as many questions as you need).\n",
    "\n",
    "Question 1: How is the duration time distribution of all the trips (trips in certain duration time range)?\n",
    "\n",
    "Question 2: What is the difference between customer and subscriber users in using habbit (average trips duration, trips number, etc)?\n",
    "\n",
    "Question 3: How many trips are of different start, end stations vs of same start, end stations? \n",
    "\n",
    "Question 4: How many trips are there in each weekday? \n",
    "\n",
    "Question 5: How many trips are there in every month?\n",
    "\n",
    "Question 6: What is the trend of bikes and docks availability for the most popular stations (hourly, weekly, monthly)?\n",
    "\n",
    "Question 7:\n",
    "\n",
    "Question 8:"
   ]
  },
  {
   "cell_type": "markdown",
   "metadata": {},
   "source": [
    "#### Question 1: How is the duration time distribution of all the trips (trips in certain duration time range)?"
   ]
  },
  {
   "cell_type": "code",
   "execution_count": 3,
   "metadata": {},
   "outputs": [
    {
     "name": "stdout",
     "output_type": "stream",
     "text": [
      "Waiting on bqjob_r471d1c30f4119b77_00000174c8a4572c_1 ... (0s) Current status: DONE   \n",
      "+---------------+-------------+\n",
      "| duration_band | trip_number |\n",
      "+---------------+-------------+\n",
      "| 0-10min       |      595803 |\n",
      "| 10-30min      |      340508 |\n",
      "| 30-45min      |       12906 |\n",
      "| 1-5hr         |       11890 |\n",
      "| 2-5hr         |       11112 |\n",
      "| 45-60min      |        6340 |\n",
      "| 5-12hr        |        3699 |\n",
      "| 12hr-24hr     |        1094 |\n",
      "| 24hr+         |         296 |\n",
      "+---------------+-------------+\n"
     ]
    }
   ],
   "source": [
    "! bq query --use_legacy_sql=false 'select case when duration_sec between 0 and 600 then \"0-10min\" when duration_sec between 600 and 1800 then \"10-30min\" when duration_sec between 1800 and 2700 then \"30-45min\" when duration_sec between 2700 and 3600 then \"45-60min\" when duration_sec between 3600 and 7200 then \"1-5hr\" when duration_sec between 7200 and 18000 then \"2-5hr\" when duration_sec between 18000 and 43200 then \"5-12hr\" when duration_sec between 43200 and 86400 then \"12hr-24hr\" when duration_sec > 86400 then \"24hr+\" end as duration_band, count(*) as trip_number from `bigquery-public-data.san_francisco.bikeshare_trips` group by duration_band order by trip_number DESC' "
   ]
  },
  {
   "cell_type": "code",
   "execution_count": 4,
   "metadata": {},
   "outputs": [
    {
     "name": "stdout",
     "output_type": "stream",
     "text": [
      "Waiting on bqjob_r16df2318d7212709_00000174c8a481db_1 ... (0s) Current status: DONE   \n",
      "+---------------+-------------+\n",
      "| duration_band | trip_number |\n",
      "+---------------+-------------+\n",
      "| 10-30min      |       66208 |\n",
      "| 0-10min       |       28588 |\n",
      "| 1-5hr         |       10924 |\n",
      "| 2-5hr         |       10514 |\n",
      "| 30-45min      |       10508 |\n",
      "| 45-60min      |        5683 |\n",
      "| 5-12hr        |        3266 |\n",
      "| 12hr-24hr     |         870 |\n",
      "| 24hr+         |         248 |\n",
      "+---------------+-------------+\n"
     ]
    }
   ],
   "source": [
    "! bq query --use_legacy_sql=false 'select case when duration_sec between 0 and 600 then \"0-10min\" when duration_sec between 600 and 1800 then \"10-30min\" when duration_sec between 1800 and 2700 then \"30-45min\" when duration_sec between 2700 and 3600 then \"45-60min\" when duration_sec between 3600 and 7200 then \"1-5hr\" when duration_sec between 7200 and 18000 then \"2-5hr\" when duration_sec between 18000 and 43200 then \"5-12hr\" when duration_sec between 43200 and 86400 then \"12hr-24hr\" when duration_sec > 86400 then \"24hr+\" end as duration_band, count(*) as trip_number from `bigquery-public-data.san_francisco.bikeshare_trips` where subscriber_type = \"Customer\" group by duration_band order by trip_number DESC'"
   ]
  },
  {
   "cell_type": "code",
   "execution_count": 5,
   "metadata": {},
   "outputs": [
    {
     "name": "stdout",
     "output_type": "stream",
     "text": [
      "Waiting on bqjob_r6a48e55cff20c19d_00000174c8a5314c_1 ... (0s) Current status: DONE   \n",
      "+---------------+-------------+\n",
      "| duration_band | trip_number |\n",
      "+---------------+-------------+\n",
      "| 0-10min       |      567215 |\n",
      "| 10-30min      |      274300 |\n",
      "| 30-45min      |        2398 |\n",
      "| 1-5hr         |         966 |\n",
      "| 45-60min      |         657 |\n",
      "| 2-5hr         |         598 |\n",
      "| 5-12hr        |         433 |\n",
      "| 12hr-24hr     |         224 |\n",
      "| 24hr+         |          48 |\n",
      "+---------------+-------------+\n"
     ]
    }
   ],
   "source": [
    "! bq query --use_legacy_sql=false 'select case when duration_sec between 0 and 600 then \"0-10min\" when duration_sec between 600 and 1800 then \"10-30min\" when duration_sec between 1800 and 2700 then \"30-45min\" when duration_sec between 2700 and 3600 then \"45-60min\" when duration_sec between 3600 and 7200 then \"1-5hr\" when duration_sec between 7200 and 18000 then \"2-5hr\" when duration_sec between 18000 and 43200 then \"5-12hr\" when duration_sec between 43200 and 86400 then \"12hr-24hr\" when duration_sec > 86400 then \"24hr+\" end as duration_band, count(*) as trip_number from `bigquery-public-data.san_francisco.bikeshare_trips` where subscriber_type = \"Subscriber\" group by duration_band order by trip_number DESC'"
   ]
  },
  {
   "cell_type": "markdown",
   "metadata": {},
   "source": [
    "#### Question 2: What is the difference between customer and subscriber users in using habbit (average trips duration, trips number, etc)?\n"
   ]
  },
  {
   "cell_type": "code",
   "execution_count": 9,
   "metadata": {},
   "outputs": [
    {
     "name": "stdout",
     "output_type": "stream",
     "text": [
      "Waiting on bqjob_r5880bb270823c6ad_00000174c3270d98_1 ... (0s) Current status: DONE   \n",
      "+----------------------+-------------------+\n",
      "| Customer_Trip_Number | Average_duration  |\n",
      "+----------------------+-------------------+\n",
      "|               136809 | 3718.785160333024 |\n",
      "+----------------------+-------------------+\n"
     ]
    }
   ],
   "source": [
    "! bq query --use_legacy_sql=false 'SELECT COUNT(trip_id) as Customer_Trip_Number, avg(duration_sec) as Average_duration from `bigquery-public-data.san_francisco.bikeshare_trips` where subscriber_type = \"Customer\"'"
   ]
  },
  {
   "cell_type": "code",
   "execution_count": 19,
   "metadata": {},
   "outputs": [
    {
     "name": "stdout",
     "output_type": "stream",
     "text": [
      "Waiting on bqjob_r49a34bcd25ed03ab_00000174c3383b7d_1 ... (0s) Current status: DONE   \n",
      "+------------------------+-------------------+\n",
      "| Subscriber_Trip_Number | Average_duration  |\n",
      "+------------------------+-------------------+\n",
      "|                 846839 | 582.7642397197222 |\n",
      "+------------------------+-------------------+\n"
     ]
    }
   ],
   "source": [
    "! bq query --use_legacy_sql=false 'SELECT COUNT(trip_id) as Subscriber_Trip_Number, AVG(duration_sec) as Average_duration, from `bigquery-public-data.san_francisco.bikeshare_trips` where subscriber_type = \"Subscriber\"'"
   ]
  },
  {
   "cell_type": "markdown",
   "metadata": {},
   "source": [
    "#### Question 3: How many trips are of different start, end stations vs of same start, end stations? \n"
   ]
  },
  {
   "cell_type": "code",
   "execution_count": 26,
   "metadata": {},
   "outputs": [
    {
     "name": "stdout",
     "output_type": "stream",
     "text": [
      "Waiting on bqjob_r41afb4448867412c_00000174c3483b07_1 ... (0s) Current status: DONE   \n",
      "+-------------------------+--------------------+\n",
      "| Same_start_end_stations |  Average_duration  |\n",
      "+-------------------------+--------------------+\n",
      "|                   32047 | 5941.4904047180235 |\n",
      "+-------------------------+--------------------+\n"
     ]
    }
   ],
   "source": [
    "! bq query --use_legacy_sql=false 'SELECT COUNT(trip_id) as Same_start_end_stations, avg(duration_sec) as Average_duration from `bigquery-public-data.san_francisco.bikeshare_trips` where start_station_id = end_station_id'"
   ]
  },
  {
   "cell_type": "code",
   "execution_count": 22,
   "metadata": {},
   "outputs": [
    {
     "name": "stdout",
     "output_type": "stream",
     "text": [
      "Waiting on bqjob_r1ff31150966e4a0d_00000174c34164e5_1 ... (0s) Current status: DONE   \n",
      "+------------------------------+-------------------+\n",
      "| Different_start_end_stations | Average_duration  |\n",
      "+------------------------------+-------------------+\n",
      "|                       951601 | 853.1557049645941 |\n",
      "+------------------------------+-------------------+\n"
     ]
    }
   ],
   "source": [
    "! bq query --use_legacy_sql=false 'SELECT COUNT(trip_id) as Different_start_end_stations, avg(duration_sec) as Average_duration from `bigquery-public-data.san_francisco.bikeshare_trips` where start_station_id != end_station_id'"
   ]
  },
  {
   "cell_type": "markdown",
   "metadata": {},
   "source": [
    "#### Question 4: How many trips are there in each weekday? "
   ]
  },
  {
   "cell_type": "markdown",
   "metadata": {},
   "source": [
    "https://sf.curbed.com/2019/8/16/20808814/san-francisco-commute-increase-2017-2008-census-commercial-cafe\n",
    "\n",
    "The average SF commuter spends 67.6 minutes commuting every day, according to the report. Trips that are of duration less than 2 hours are to be considered as potential commute trips in the following parts. "
   ]
  },
  {
   "cell_type": "code",
   "execution_count": 3,
   "metadata": {},
   "outputs": [
    {
     "name": "stdout",
     "output_type": "stream",
     "text": [
      "Waiting on bqjob_r334e88e101e11a36_00000174c755c22a_1 ... (0s) Current status: DONE   \n",
      "+---------+-----------+---------+\n",
      "| trip_id | start_day | end_day |\n",
      "+---------+-----------+---------+\n",
      "|  944732 | Thu       | Thu     |\n",
      "|  984595 | Sun       | Sun     |\n",
      "|  984596 | Sun       | Sun     |\n",
      "| 1129385 | Fri       | Fri     |\n",
      "| 1030383 | Sun       | Sun     |\n",
      "| 1102641 | Tue       | Tue     |\n",
      "|  969490 | Tue       | Tue     |\n",
      "| 1129386 | Fri       | Fri     |\n",
      "|  947105 | Sat       | Sat     |\n",
      "| 1011650 | Mon       | Mon     |\n",
      "+---------+-----------+---------+\n"
     ]
    }
   ],
   "source": [
    "! bq query --use_legacy_sql=false 'SELECT trip_id, FORMAT_TIMESTAMP(\"%a\", start_date) AS start_day, FORMAT_TIMESTAMP(\"%a\", end_date) AS end_day, from `bigquery-public-data.san_francisco.bikeshare_trips` where duration_sec < 7200 limit 10'"
   ]
  },
  {
   "cell_type": "markdown",
   "metadata": {},
   "source": [
    "There are 905 trips that start and end on different days. "
   ]
  },
  {
   "cell_type": "code",
   "execution_count": 12,
   "metadata": {},
   "outputs": [
    {
     "name": "stdout",
     "output_type": "stream",
     "text": [
      "Waiting on bqjob_rb836bdf7f2eac49_00000174c762fe3c_1 ... (1s) Current status: DONE   \n",
      "+----------------+\n",
      "| cross_day_trip |\n",
      "+----------------+\n",
      "|            905 |\n",
      "+----------------+\n"
     ]
    }
   ],
   "source": [
    "! bq query --use_legacy_sql=false 'select count(*) as cross_day_trip from (SELECT trip_id, FORMAT_TIMESTAMP(\"%a\", start_date) AS start_day, FORMAT_TIMESTAMP(\"%a\", end_date) AS end_day, from `bigquery-public-data.san_francisco.bikeshare_trips` where duration_sec < 7200) where start_day != end_day'"
   ]
  },
  {
   "cell_type": "code",
   "execution_count": 11,
   "metadata": {},
   "outputs": [
    {
     "name": "stdout",
     "output_type": "stream",
     "text": [
      "Waiting on bqjob_r52754b2ec0484829_00000174c762a082_1 ... (1s) Current status: DONE   \n",
      "+----------+-----------+\n",
      "| trip_num | start_day |\n",
      "+----------+-----------+\n",
      "|   182685 | Tue       |\n",
      "|   179090 | Wed       |\n",
      "|   175069 | Thu       |\n",
      "|   168052 | Mon       |\n",
      "|   157433 | Fri       |\n",
      "|    56354 | Sat       |\n",
      "|    47857 | Sun       |\n",
      "+----------+-----------+\n"
     ]
    }
   ],
   "source": [
    "! bq query --use_legacy_sql=false 'select count(trip_id) as trip_num, start_day from (SELECT trip_id, FORMAT_TIMESTAMP(\"%a\", start_date) AS start_day, FORMAT_TIMESTAMP(\"%a\", end_date) AS end_day, from `bigquery-public-data.san_francisco.bikeshare_trips` where duration_sec < 7200) where start_day = end_day group by start_day order by trip_num DESC'"
   ]
  },
  {
   "cell_type": "markdown",
   "metadata": {},
   "source": [
    "Customer"
   ]
  },
  {
   "cell_type": "code",
   "execution_count": 13,
   "metadata": {},
   "outputs": [
    {
     "name": "stdout",
     "output_type": "stream",
     "text": [
      "Waiting on bqjob_r2b5f15995f3d1990_00000174c76337e4_1 ... (0s) Current status: DONE   \n",
      "+----------+-----------+\n",
      "| trip_num | start_day |\n",
      "+----------+-----------+\n",
      "|    25468 | Sat       |\n",
      "|    22499 | Sun       |\n",
      "|    17719 | Fri       |\n",
      "|    15049 | Thu       |\n",
      "|    13864 | Wed       |\n",
      "|    13530 | Mon       |\n",
      "|    13331 | Tue       |\n",
      "+----------+-----------+\n"
     ]
    }
   ],
   "source": [
    "! bq query --use_legacy_sql=false 'select count(trip_id) as trip_num, start_day from (SELECT trip_id, FORMAT_TIMESTAMP(\"%a\", start_date) AS start_day, FORMAT_TIMESTAMP(\"%a\", end_date) AS end_day, from `bigquery-public-data.san_francisco.bikeshare_trips` where duration_sec < 7200 and subscriber_type = \"Customer\") where start_day = end_day group by start_day order by trip_num DESC'"
   ]
  },
  {
   "cell_type": "code",
   "execution_count": null,
   "metadata": {},
   "outputs": [],
   "source": [
    "Subscriber"
   ]
  },
  {
   "cell_type": "code",
   "execution_count": 14,
   "metadata": {},
   "outputs": [
    {
     "name": "stdout",
     "output_type": "stream",
     "text": [
      "Waiting on bqjob_r251d33b344e893d2_00000174c7634b8d_1 ... (2s) Current status: DONE   \n",
      "+----------+-----------+\n",
      "| trip_num | start_day |\n",
      "+----------+-----------+\n",
      "|   169354 | Tue       |\n",
      "|   165226 | Wed       |\n",
      "|   160020 | Thu       |\n",
      "|   154522 | Mon       |\n",
      "|   139714 | Fri       |\n",
      "|    30886 | Sat       |\n",
      "|    25358 | Sun       |\n",
      "+----------+-----------+\n"
     ]
    }
   ],
   "source": [
    "! bq query --use_legacy_sql=false 'select count(trip_id) as trip_num, start_day from (SELECT trip_id, FORMAT_TIMESTAMP(\"%a\", start_date) AS start_day, FORMAT_TIMESTAMP(\"%a\", end_date) AS end_day, from `bigquery-public-data.san_francisco.bikeshare_trips` where duration_sec < 7200 and subscriber_type = \"Subscriber\") where start_day = end_day group by start_day order by trip_num DESC'"
   ]
  },
  {
   "cell_type": "markdown",
   "metadata": {},
   "source": [
    " ##### Question 5. How many trips are there in every month?"
   ]
  },
  {
   "cell_type": "code",
   "execution_count": 5,
   "metadata": {},
   "outputs": [
    {
     "name": "stdout",
     "output_type": "stream",
     "text": [
      "Waiting on bqjob_r6dce55f8c900e279_00000174c851b2c7_1 ... (0s) Current status: DONE   \n",
      "+---------+-------+\n",
      "| trip_id | month |\n",
      "+---------+-------+\n",
      "|  944732 | 09    |\n",
      "|  984595 | 10    |\n",
      "|  984596 | 10    |\n",
      "| 1129385 | 03    |\n",
      "| 1030383 | 12    |\n",
      "| 1102641 | 02    |\n",
      "|  969490 | 10    |\n",
      "| 1129386 | 03    |\n",
      "|  947105 | 09    |\n",
      "| 1011650 | 11    |\n",
      "+---------+-------+\n"
     ]
    }
   ],
   "source": [
    "! bq query --use_legacy_sql=false 'SELECT trip_id, FORMAT_TIMESTAMP(\"%m\", start_date) as month, from `bigquery-public-data.san_francisco.bikeshare_trips` limit 10'"
   ]
  },
  {
   "cell_type": "markdown",
   "metadata": {},
   "source": [
    "! bq query --use_legacy_sql=false 'select count(trip_id) as trip_num, month from (SELECT trip_id, FORMAT_TIMESTAMP(\"%m\", start_date) as month from `bigquery-public-data.san_francisco.bikeshare_trips`) group by month order by month'"
   ]
  },
  {
   "cell_type": "markdown",
   "metadata": {},
   "source": [
    "Check duration less than 2hrs and for subscribers "
   ]
  },
  {
   "cell_type": "code",
   "execution_count": 7,
   "metadata": {},
   "outputs": [
    {
     "name": "stdout",
     "output_type": "stream",
     "text": [
      "Waiting on bqjob_r74ff9f140ebb094_00000174c8a69676_1 ... (0s) Current status: DONE   \n",
      "+----------+-------+\n",
      "| trip_num | month |\n",
      "+----------+-------+\n",
      "|    80223 | 10    |\n",
      "|    79953 | 08    |\n",
      "|    79405 | 06    |\n",
      "|    76302 | 07    |\n",
      "|    74124 | 04    |\n",
      "|    73537 | 05    |\n",
      "|    71513 | 03    |\n",
      "|    69880 | 09    |\n",
      "|    63967 | 01    |\n",
      "|    63631 | 11    |\n",
      "|    62028 | 02    |\n",
      "|    50973 | 12    |\n",
      "+----------+-------+\n"
     ]
    }
   ],
   "source": [
    "! bq query --use_legacy_sql=false 'select count(trip_id) as trip_num, month from (SELECT trip_id, FORMAT_TIMESTAMP(\"%m\", start_date) as month from `bigquery-public-data.san_francisco.bikeshare_trips` where duration_sec < 7200 and subscriber_type = \"Subscriber\") group by month order by trip_num DESC'"
   ]
  },
  {
   "cell_type": "markdown",
   "metadata": {},
   "source": [
    "Check duration less than 2hrs and for customers"
   ]
  },
  {
   "cell_type": "code",
   "execution_count": 8,
   "metadata": {},
   "outputs": [
    {
     "name": "stdout",
     "output_type": "stream",
     "text": [
      "Waiting on bqjob_r58892776f54b9955_00000174c8a7209b_1 ... (0s) Current status: DONE   \n",
      "+----------+-------+\n",
      "| trip_num | month |\n",
      "+----------+-------+\n",
      "|    15535 | 09    |\n",
      "|    13968 | 08    |\n",
      "|    12586 | 10    |\n",
      "|    11646 | 07    |\n",
      "|    11373 | 05    |\n",
      "|    10782 | 06    |\n",
      "|     9028 | 03    |\n",
      "|     8776 | 04    |\n",
      "|     8324 | 11    |\n",
      "|     7012 | 02    |\n",
      "|     6862 | 01    |\n",
      "|     6017 | 12    |\n",
      "+----------+-------+\n"
     ]
    }
   ],
   "source": [
    "! bq query --use_legacy_sql=false 'select count(trip_id) as trip_num, month from (SELECT trip_id, FORMAT_TIMESTAMP(\"%m\", start_date) as month from `bigquery-public-data.san_francisco.bikeshare_trips` where duration_sec < 7200 and subscriber_type = \"Customer\") group by month order by trip_num DESC'"
   ]
  },
  {
   "cell_type": "markdown",
   "metadata": {},
   "source": [
    "Check trips for customers"
   ]
  },
  {
   "cell_type": "code",
   "execution_count": 9,
   "metadata": {},
   "outputs": [
    {
     "name": "stdout",
     "output_type": "stream",
     "text": [
      "Waiting on bqjob_r7987734467eb9250_00000174c8a77033_1 ... (0s) Current status: DONE   \n",
      "+----------+-------+\n",
      "| trip_num | month |\n",
      "+----------+-------+\n",
      "|    17310 | 09    |\n",
      "|    15543 | 08    |\n",
      "|    14038 | 10    |\n",
      "|    13152 | 07    |\n",
      "|    12741 | 05    |\n",
      "|    12147 | 06    |\n",
      "|    10158 | 03    |\n",
      "|     9978 | 04    |\n",
      "|     9371 | 11    |\n",
      "|     7862 | 02    |\n",
      "|     7713 | 01    |\n",
      "|     6796 | 12    |\n",
      "+----------+-------+\n"
     ]
    }
   ],
   "source": [
    "! bq query --use_legacy_sql=false 'select count(trip_id) as trip_num, month from (SELECT trip_id, FORMAT_TIMESTAMP(\"%m\", start_date) as month from `bigquery-public-data.san_francisco.bikeshare_trips` where subscriber_type = \"Customer\") group by month order by trip_num DESC'"
   ]
  },
  {
   "cell_type": "code",
   "execution_count": 10,
   "metadata": {},
   "outputs": [
    {
     "name": "stdout",
     "output_type": "stream",
     "text": [
      "Waiting on bqjob_r75381ce70264b264_00000174c8a8d60d_1 ... (1s) Current status: DONE   \n",
      "+----------+-------+\n",
      "| trip_num | month |\n",
      "+----------+-------+\n",
      "|    80340 | 10    |\n",
      "|    80033 | 08    |\n",
      "|    79525 | 06    |\n",
      "|    76387 | 07    |\n",
      "|    74218 | 04    |\n",
      "|    73623 | 05    |\n",
      "|    71619 | 03    |\n",
      "|    70011 | 09    |\n",
      "|    64075 | 01    |\n",
      "|    63720 | 11    |\n",
      "|    62123 | 02    |\n",
      "|    51165 | 12    |\n",
      "+----------+-------+\n"
     ]
    }
   ],
   "source": [
    "! bq query --use_legacy_sql=false 'select count(trip_id) as trip_num, month from (SELECT trip_id, FORMAT_TIMESTAMP(\"%m\", start_date) as month from `bigquery-public-data.san_francisco.bikeshare_trips` where subscriber_type = \"Subscriber\") group by month order by trip_num DESC'"
   ]
  },
  {
   "cell_type": "code",
   "execution_count": null,
   "metadata": {},
   "outputs": [],
   "source": []
  }
 ],
 "metadata": {
  "environment": {
   "name": "tf2-gpu.2-1.m55",
   "type": "gcloud",
   "uri": "gcr.io/deeplearning-platform-release/tf2-gpu.2-1:m55"
  },
  "kernelspec": {
   "display_name": "Python 3",
   "language": "python",
   "name": "python3"
  },
  "language_info": {
   "codemirror_mode": {
    "name": "ipython",
    "version": 3
   },
   "file_extension": ".py",
   "mimetype": "text/x-python",
   "name": "python",
   "nbconvert_exporter": "python",
   "pygments_lexer": "ipython3",
   "version": "3.7.8"
  }
 },
 "nbformat": 4,
 "nbformat_minor": 4
}
