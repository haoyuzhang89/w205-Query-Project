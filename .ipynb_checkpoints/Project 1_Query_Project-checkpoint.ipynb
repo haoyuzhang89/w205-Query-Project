{
 "cells": [
  {
   "cell_type": "markdown",
   "metadata": {},
   "source": []
  },
  {
   "cell_type": "markdown",
   "metadata": {},
   "source": [
    "(USE THESE TABLES!) The static tables we will be using in this class are in the dataset san_francisco :\n",
    "\n",
    "bikeshare_stations\n",
    "\n",
    "bikeshare_status\n",
    "\n",
    "bikeshare_trips"
   ]
  },
  {
   "cell_type": "markdown",
   "metadata": {},
   "source": [
    "## Part 1"
   ]
  },
  {
   "cell_type": "markdown",
   "metadata": {},
   "source": [
    "### Initial Questions\n",
    "\n",
    "1. What's the size of this dataset? (i.e., how many trips)\n",
    "\n",
    "```sql\n",
    "#standardSQL\n",
    "select count(station_id)\n",
    "from `bigquery-public-data.san_francisco.bikeshare_stations`\n",
    "```\n",
    "Row | StationsSize\t\n",
    "--- | ------------\n",
    "1\t| 74\n",
    "\n",
    "```sql \n",
    "#standardSQL\n",
    "select count(distinct station_id) as StationsNumber\n",
    "from `bigquery-public-data.san_francisco.bikeshare_stations`\n",
    "```\n",
    "Row | StationsNumber\n",
    "--- | --------------\n",
    "1\t| 74\n",
    "\n",
    "\n",
    "```sql\n",
    "#standardSQL\n",
    "select count(*) as StatusNumber\n",
    "from `bigquery-public-data.san_francisco.bikeshare_status`\n",
    "```\n",
    "Row | StationsNumber\n",
    "--- | --------------\n",
    "1\t|107501619\n",
    "\n",
    "```sql\n",
    "#standardSQL\n",
    "select count(*) as TripsSize\n",
    "from `bigquery-public-data.san_francisco.bikeshare_trips`\n",
    "```\n",
    "Row | TripsSize\t\n",
    "--- | ---------\n",
    "1\t| 983648\n",
    "\n",
    "```sql\n",
    "#standardSQL\n",
    "select count(distinct trip_id) as TripsNumber\n",
    "from `bigquery-public-data.san_francisco.bikeshare_trips`\n",
    "```\n",
    "Row\t| TripsNumber\t\n",
    "--- | -----------\n",
    "1\t| 983648\n",
    "\n",
    "\n"
   ]
  },
  {
   "cell_type": "markdown",
   "metadata": {},
   "source": [
    "2. What is the earliest start date and time and latest end date and time for a trip?\n",
    "\n",
    "```sql\n",
    "#standardSQL\n",
    "select min(start_date) as EarlyTime\n",
    "from `bigquery-public-data.san_francisco.bikeshare_trips`\n",
    "```\n",
    "Row\t| EarlyTime\t\n",
    "--- | ---------\n",
    "1\t| 2013-08-29 09:08:00 UTC\n",
    "\n",
    "```sql\n",
    "#standardSQL\n",
    "select max(end_date) as LateTime\n",
    "from `bigquery-public-data.san_francisco.bikeshare_trips`\n",
    "```\n",
    "Row | LateTime\t\n",
    "--- | --------\n",
    "1\t| 2016-08-31 23:48:00 UTC"
   ]
  },
  {
   "cell_type": "markdown",
   "metadata": {},
   "source": [
    "3. How many bikes are there?\n",
    "\n",
    "bike_number is the ID of bike used. \n",
    "```sql\n",
    "#standardSQL\n",
    "select count(distinct bike_number) as BikesNumber\n",
    "from `bigquery-public-data.san_francisco.bikeshare_trips`\n",
    "```\n",
    "\n",
    "Row | BikesNumber\t\n",
    "--- | -----------\n",
    "1\t| 700\n",
    "\n",
    "\n",
    "```sql\n",
    "#standardSQL\n",
    "select sum (bikes_available) as total_available, time from `bigquery-public-data.san_francisco.bikeshare_status`\n",
    "group by time\n",
    "order by total_available DESC\n",
    "```\n",
    "Row | total_available | time\n",
    "--- | --------------- | ----\n",
    "1\t| 641 | 2014-11-01 03:56:02 UTC\n",
    "2\t| 640 | 2014-11-01 00:33:03 UTC\n",
    "3\t| 640 | 2014-11-01 01:18:03 UTC\n",
    "4\t| 640 | 2014-11-01 06:20:02 UTC\n",
    "5\t| 640 | 2014-11-01 03:48:03 UTC\n"
   ]
  },
  {
   "cell_type": "markdown",
   "metadata": {},
   "source": [
    "Questions of your own\n",
    "Make up 3 questions and answer them using the Bay Area Bike Share Trips Data. These questions MUST be different than any of the questions and queries you ran above.\n",
    "\n",
    "Question 1: In which zip code area, there are the most share trips?\n",
    "\n",
    "Answer: 94107, with 106913 trips\n",
    "SQL query:\n",
    "```sql\n",
    "#standardSQL\n",
    "select count (distinct trip_id) as trips_number, zip_code from `bigquery-public-data.san_francisco.bikeshare_trips`\n",
    "group by zip_code\n",
    "order by trips_number DESC\n",
    "```\n",
    "Row\t| trips_number | zip_code\t\n",
    "--- | ------------ | --------\n",
    "1\t| 106913 | 94107\n",
    "2\t| 61232 | 94105\n",
    "3\t| 46544 | 94133\n",
    "4\t| 38072 | 94103\n",
    "5\t| 33642 | 94111\n",
    "\n",
    "\n",
    "Question 2: Which station is the most popular as a start station, and end station. \n",
    "\n",
    "Answer: San Francisco Caltrain (Townsend at 4th) is the most popular as both start station and end station;\n",
    "\n",
    "SQL query:\n",
    "```sql\n",
    "#standardSQL\n",
    "select count (*) as trips_number, start_station_name from `bigquery-public-data.san_francisco.bikeshare_trips`\n",
    "group by start_station_id, start_station_name\n",
    "order by trips_number DESC\n",
    "```\n",
    "\n",
    "Row | trips_number | start_station_name\t\n",
    "--- | ------------ | ------------------\n",
    "1 |\t72683 | San Francisco Caltrain (Townsend at 4th)\n",
    "2 |\t56100 | San Francisco Caltrain 2 (330 Townsend)\n",
    "3 | 49062 | Harry Bridges Plaza (Ferry Building)\n",
    "4 | 41137 | Embarcadero at Sansome\n",
    "5 | 39936 | 2nd at Townsend\n",
    "\n",
    "```sql\n",
    "#standardSQL\n",
    "select count (*) as trips_number, end_station_name from `bigquery-public-data.san_francisco.bikeshare_trips`\n",
    "group by end_station_id, end_station_name\n",
    "order by trips_number DESC\n",
    "```\n",
    "Row\t| trips_number | end_station_name\n",
    "--- | ------------ | ----------------\n",
    "1\t| 92014      | San Francisco Caltrain (Townsend at 4th)\n",
    "2\t| 58713      | San Francisco Caltrain 2 (330 Townsend)\n",
    "3\t| 50185      | Harry Bridges Plaza (Ferry Building)\n",
    "4\t| 46197      | Embarcadero at Sansome\n",
    "5\t| 44145      | 2nd at Townsend\n",
    "\n",
    "\n",
    "Question 3: What is the longest and shortest duration of the trip?\n",
    "\n",
    "Answer: The longest trip is 17270400 seconds, \n",
    "SQL query:\n",
    "\n",
    "```sql\n",
    "#standardSQL\n",
    "select max (duration_sec) as max_duration_sec from `bigquery-public-data.san_francisco.bikeshare_trips`\n",
    "```\n",
    "Row\t| max_duration_sec\n",
    "--- | ----------------\n",
    "1\t| 17270400\n",
    "\n",
    "```sql\n",
    "#standardSQL\n",
    "select min (duration_sec) as min_duration_sec from `bigquery-public-data.san_francisco.bikeshare_trips`\n",
    "```\n",
    "Row\t| min_duration_sec\n",
    "--- | ----------------\n",
    "1\t| 60"
   ]
  },
  {
   "cell_type": "markdown",
   "metadata": {},
   "source": [
    "## Part 2\n",
    "\n",
    "### Queries\n",
    "\n",
    "1. Rerun the first 3 queries from Part 1 using bq command line tool (Paste your bq\n",
    "   queries and results here, using properly formatted markdown):\n",
    "\n",
    "  * What's the size of this dataset? (i.e., how many trips)\n",
    " "
   ]
  },
  {
   "cell_type": "code",
   "execution_count": 10,
   "metadata": {},
   "outputs": [
    {
     "name": "stdout",
     "output_type": "stream",
     "text": [
      "Waiting on bqjob_r63b6d123c5d4b877_00000174b8c4e556_1 ... (0s) Current status: DONE   \n",
      "+-----------------+\n",
      "| stations_number |\n",
      "+-----------------+\n",
      "|              74 |\n",
      "+-----------------+\n"
     ]
    }
   ],
   "source": [
    "! bq query --use_legacy_sql=false 'select count(distinct station_id) as stations_number from `bigquery-public-data.san_francisco.bikeshare_stations`' "
   ]
  },
  {
   "cell_type": "code",
   "execution_count": 11,
   "metadata": {},
   "outputs": [
    {
     "name": "stdout",
     "output_type": "stream",
     "text": [
      "Waiting on bqjob_r23b19363b111a48f_00000174b8c57318_1 ... (0s) Current status: DONE   \n",
      "+--------------+\n",
      "| trips_number |\n",
      "+--------------+\n",
      "|       983648 |\n",
      "+--------------+\n"
     ]
    }
   ],
   "source": [
    "! bq query --use_legacy_sql=false 'select count (distinct trip_id) as trips_number from `bigquery-public-data.san_francisco.bikeshare_trips`'"
   ]
  },
  {
   "cell_type": "code",
   "execution_count": 12,
   "metadata": {},
   "outputs": [
    {
     "name": "stdout",
     "output_type": "stream",
     "text": [
      "Waiting on bqjob_r6d813c9e01471ae6_00000174b8c5b790_1 ... (0s) Current status: DONE   \n",
      "+--------------+\n",
      "| StatusNumber |\n",
      "+--------------+\n",
      "|    107501619 |\n",
      "+--------------+\n"
     ]
    }
   ],
   "source": [
    "! bq query --use_legacy_sql=false 'select count(*) as StatusNumber from `bigquery-public-data.san_francisco.bikeshare_status`'"
   ]
  },
  {
   "cell_type": "markdown",
   "metadata": {},
   "source": [
    "  * What is the earliest start time and latest end time for a trip?\n"
   ]
  },
  {
   "cell_type": "code",
   "execution_count": 8,
   "metadata": {},
   "outputs": [
    {
     "name": "stdout",
     "output_type": "stream",
     "text": [
      "Waiting on bqjob_r4813061ba4935c0e_00000174b8c3e56b_1 ... (0s) Current status: DONE   \n",
      "+---------------------+---------------------+\n",
      "|      EarlyTime      |      LateTime       |\n",
      "+---------------------+---------------------+\n",
      "| 2013-08-29 09:08:00 | 2016-08-31 23:48:00 |\n",
      "+---------------------+---------------------+\n"
     ]
    }
   ],
   "source": [
    "! bq query --use_legacy_sql=false 'select min(start_date) as EarlyTime, max(end_date) as LateTime from `bigquery-public-data.san_francisco.bikeshare_trips`'"
   ]
  },
  {
   "cell_type": "markdown",
   "metadata": {},
   "source": [
    "  * How many bikes are there?"
   ]
  },
  {
   "cell_type": "code",
   "execution_count": 13,
   "metadata": {},
   "outputs": [
    {
     "name": "stdout",
     "output_type": "stream",
     "text": [
      "Waiting on bqjob_r25c05662f561d17a_00000174b8c68572_1 ... (0s) Current status: DONE   \n",
      "+-------------+\n",
      "| BikesNumber |\n",
      "+-------------+\n",
      "|         700 |\n",
      "+-------------+\n"
     ]
    }
   ],
   "source": [
    "! bq query --use_legacy_sql=false 'select count(distinct bike_number) as BikesNumber from `bigquery-public-data.san_francisco.bikeshare_trips`'"
   ]
  },
  {
   "cell_type": "markdown",
   "metadata": {},
   "source": [
    "2. New Query (Run using bq and paste your SQL query and answer the question in a sentence, using properly formatted markdown):\n",
    "\n",
    "  * How many trips are in the morning vs in the afternoon?"
   ]
  },
  {
   "cell_type": "code",
   "execution_count": 36,
   "metadata": {},
   "outputs": [
    {
     "name": "stdout",
     "output_type": "stream",
     "text": [
      "Waiting on bqjob_r39020001cf5f2af2_00000174b8f7dcb3_1 ... (0s) Current status: DONE   \n",
      "+---------+------------+----------+\n",
      "| trip_id | start_time | end_time |\n",
      "+---------+------------+----------+\n",
      "|  944732 | pm         | pm       |\n",
      "|  984595 | pm         | pm       |\n",
      "|  984596 | pm         | pm       |\n",
      "| 1129385 | am         | pm       |\n",
      "| 1030383 | am         | pm       |\n",
      "| 1102641 | pm         | pm       |\n",
      "|  969490 | pm         | pm       |\n",
      "| 1129386 | am         | pm       |\n",
      "|  947105 | pm         | pm       |\n",
      "| 1011650 | pm         | pm       |\n",
      "+---------+------------+----------+\n"
     ]
    }
   ],
   "source": [
    "\n",
    "! bq query --use_legacy_sql=false 'SELECT trip_id, FORMAT_TIMESTAMP(\"%P\", start_date) AS start_time, FORMAT_TIMESTAMP(\"%P\", end_date) AS end_time, from `bigquery-public-data.san_francisco.bikeshare_trips` limit 10'"
   ]
  },
  {
   "cell_type": "code",
   "execution_count": 46,
   "metadata": {},
   "outputs": [
    {
     "name": "stdout",
     "output_type": "stream",
     "text": [
      "Waiting on bqjob_r4b45d0f1d6f74fdd_00000174b9011177_1 ... (1s) Current status: DONE   \n",
      "+--------+\n",
      "|  f0_   |\n",
      "+--------+\n",
      "| 398273 |\n",
      "+--------+\n"
     ]
    }
   ],
   "source": [
    "! bq query --use_legacy_sql=false 'SELECT COUNT(DISTINCT TP.trip_id) FROM (SELECT trip_id, FORMAT_TIMESTAMP(\"%P\", start_date) AS start_time, FORMAT_TIMESTAMP(\"%P\", end_date) AS end_time, from `bigquery-public-data.san_francisco.bikeshare_trips`) AS TP where TP.start_time = \"am\" and TP.end_time = \"am\"'"
   ]
  },
  {
   "cell_type": "code",
   "execution_count": 47,
   "metadata": {},
   "outputs": [
    {
     "name": "stdout",
     "output_type": "stream",
     "text": [
      "Waiting on bqjob_r4d612d107c5df0a_00000174b9016c68_1 ... (1s) Current status: DONE   \n",
      "+--------+\n",
      "|  f0_   |\n",
      "+--------+\n",
      "| 569438 |\n",
      "+--------+\n"
     ]
    }
   ],
   "source": [
    "! bq query --use_legacy_sql=false 'SELECT COUNT(DISTINCT TP.trip_id) FROM (SELECT trip_id, FORMAT_TIMESTAMP(\"%P\", start_date) AS start_time, FORMAT_TIMESTAMP(\"%P\", end_date) AS end_time, from `bigquery-public-data.san_francisco.bikeshare_trips`) AS TP where TP.start_time = \"pm\" and TP.end_time = \"pm\"'"
   ]
  },
  {
   "cell_type": "code",
   "execution_count": 48,
   "metadata": {},
   "outputs": [
    {
     "name": "stdout",
     "output_type": "stream",
     "text": [
      "Waiting on bqjob_r73c155cf723ee1f8_00000174b901b3f3_1 ... (1s) Current status: DONE   \n",
      "+-------+\n",
      "|  f0_  |\n",
      "+-------+\n",
      "| 14066 |\n",
      "+-------+\n"
     ]
    }
   ],
   "source": [
    "! bq query --use_legacy_sql=false 'SELECT COUNT(DISTINCT TP.trip_id) FROM (SELECT trip_id, FORMAT_TIMESTAMP(\"%P\", start_date) AS start_time, FORMAT_TIMESTAMP(\"%P\", end_date) AS end_time, from `bigquery-public-data.san_francisco.bikeshare_trips`) AS TP where TP.start_time = \"am\" and TP.end_time = \"pm\"'"
   ]
  },
  {
   "cell_type": "code",
   "execution_count": 49,
   "metadata": {},
   "outputs": [
    {
     "name": "stdout",
     "output_type": "stream",
     "text": [
      "Waiting on bqjob_r2433257e70d1ead6_00000174b901f3f6_1 ... (1s) Current status: DONE   \n",
      "+------+\n",
      "| f0_  |\n",
      "+------+\n",
      "| 1871 |\n",
      "+------+\n"
     ]
    }
   ],
   "source": [
    "! bq query --use_legacy_sql=false 'SELECT COUNT(DISTINCT TP.trip_id) FROM (SELECT trip_id, FORMAT_TIMESTAMP(\"%P\", start_date) AS start_time, FORMAT_TIMESTAMP(\"%P\", end_date) AS end_time, from `bigquery-public-data.san_francisco.bikeshare_trips`) AS TP where TP.start_time = \"pm\" and TP.end_time = \"am\"'"
   ]
  },
  {
   "cell_type": "code",
   "execution_count": null,
   "metadata": {},
   "outputs": [],
   "source": []
  }
 ],
 "metadata": {
  "environment": {
   "name": "tf2-gpu.2-1.m55",
   "type": "gcloud",
   "uri": "gcr.io/deeplearning-platform-release/tf2-gpu.2-1:m55"
  },
  "kernelspec": {
   "display_name": "Python 3",
   "language": "python",
   "name": "python3"
  },
  "language_info": {
   "codemirror_mode": {
    "name": "ipython",
    "version": 3
   },
   "file_extension": ".py",
   "mimetype": "text/x-python",
   "name": "python",
   "nbconvert_exporter": "python",
   "pygments_lexer": "ipython3",
   "version": "3.7.8"
  }
 },
 "nbformat": 4,
 "nbformat_minor": 4
}
