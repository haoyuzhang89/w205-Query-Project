{
 "cells": [
  {
   "cell_type": "markdown",
   "metadata": {},
   "source": []
  },
  {
   "cell_type": "markdown",
   "metadata": {},
   "source": [
    "(USE THESE TABLES!) The static tables we will be using in this class are in the dataset san_francisco :\n",
    "\n",
    "bikeshare_stations\n",
    "\n",
    "bikeshare_status\n",
    "\n",
    "bikeshare_trips"
   ]
  },
  {
   "cell_type": "markdown",
   "metadata": {},
   "source": [
    "## Part 1"
   ]
  },
  {
   "cell_type": "markdown",
   "metadata": {},
   "source": [
    "### Initial Questions\n",
    "\n",
    "1. What's the size of this dataset? (i.e., how many trips)\n",
    "\n",
    "```sql\n",
    "#standardSQL\n",
    "select count(station_id)\n",
    "from `bigquery-public-data.san_francisco.bikeshare_stations`\n",
    "```\n",
    "Row | StationsSize\t\n",
    "--- | ------------\n",
    "1\t| 74\n",
    "\n",
    "```sql \n",
    "#standardSQL\n",
    "select count(distinct station_id) as StationsNumber\n",
    "from `bigquery-public-data.san_francisco.bikeshare_stations`\n",
    "```\n",
    "Row | StationsNumber\n",
    "--- | --------------\n",
    "1\t| 74\n",
    "\n",
    "\n",
    "```sql\n",
    "#standardSQL\n",
    "select count(*) as StatusSize\n",
    "from `bigquery-public-data.san_francisco.bikeshare_status`\n",
    "```\n",
    "Row | StationsNumber\n",
    "--- | --------------\n",
    "1\t|107501619\n",
    "\n",
    "```sql\n",
    "#standardSQL\n",
    "select count(*) as TripsSize\n",
    "from `bigquery-public-data.san_francisco.bikeshare_trips`\n",
    "```\n",
    "Row | TripsSize\t\n",
    "--- | ---------\n",
    "1\t| 983648\n",
    "\n",
    "```sql\n",
    "#standardSQL\n",
    "select count(distinct trip_id) as TripsNumber\n",
    "from `bigquery-public-data.san_francisco.bikeshare_trips`\n",
    "```\n",
    "Row\t| TripsNumber\t\n",
    "--- | -----------\n",
    "1\t| 983648\n",
    "\n",
    "\n"
   ]
  },
  {
   "cell_type": "markdown",
   "metadata": {},
   "source": [
    "2. What is the earliest start date and time and latest end date and time for a trip?\n",
    "\n",
    "```sql\n",
    "#standardSQL\n",
    "select min(start_date) as EarlyTime\n",
    "from `bigquery-public-data.san_francisco.bikeshare_trips`\n",
    "```\n",
    "Row\t| EarlyTime\t\n",
    "--- | ---------\n",
    "1\t| 2013-08-29 09:08:00 UTC\n",
    "\n",
    "```sql\n",
    "#standardSQL\n",
    "select max(end_date) as LateTime\n",
    "from `bigquery-public-data.san_francisco.bikeshare_trips`\n",
    "```\n",
    "Row | LateTime\t\n",
    "--- | --------\n",
    "1\t| 2016-08-31 23:48:00 UTC"
   ]
  },
  {
   "cell_type": "markdown",
   "metadata": {},
   "source": [
    "3. How many bikes are there?\n",
    "\n",
    "bike_number is the ID of bike used. \n",
    "```sql\n",
    "#standardSQL\n",
    "select count(distinct bike_number) as LateTime\n",
    "from `bigquery-public-data.san_francisco.bikeshare_trips`\n",
    "```\n",
    "\n",
    "Row | LateTime\t\n",
    "--- | --------\n",
    "1\t| 700\n",
    "\n",
    "\n",
    "```sql\n",
    "#standardSQL\n",
    "select sum (bikes_available) as total_available, time from `bigquery-public-data.san_francisco.bikeshare_status`\n",
    "group by time\n",
    "order by total_available DESC\n",
    "```\n",
    "Row | total_available | time\n",
    "--- | --------------- | ----\n",
    "1\t| 641 | 2014-11-01 03:56:02 UTC\n",
    "2\t| 640 | 2014-11-01 00:33:03 UTC\n",
    "3\t| 640 | 2014-11-01 01:18:03 UTC\n",
    "4\t| 640 | 2014-11-01 06:20:02 UTC\n",
    "5\t| 640 | 2014-11-01 03:48:03 UTC\n"
   ]
  },
  {
   "cell_type": "markdown",
   "metadata": {},
   "source": [
    "Questions of your own\n",
    "Make up 3 questions and answer them using the Bay Area Bike Share Trips Data. These questions MUST be different than any of the questions and queries you ran above.\n",
    "\n",
    "Question 1: In which zip code area, there are the most share trips?\n",
    "\n",
    "Answer: 94107, with 106913 trips\n",
    "SQL query:\n",
    "```sql\n",
    "#standardSQL\n",
    "select count (distinct trip_id) as trips_number, zip_code from `bigquery-public-data.san_francisco.bikeshare_trips`\n",
    "group by zip_code\n",
    "order by trips_number DESC\n",
    "```\n",
    "Row\t| trips_number | zip_code\t\n",
    "--- | ------------ | --------\n",
    "1\t| 106913 | 94107\n",
    "2\t| 61232 | 94105\n",
    "3\t| 46544 | 94133\n",
    "4\t| 38072 | 94103\n",
    "5\t| 33642 | 94111\n",
    "\n",
    "Question 2:\n",
    "\n",
    "Answer:\n",
    "SQL query:\n",
    "\n",
    "\n",
    "Question 3:\n",
    "\n",
    "Answer:\n",
    "SQL query:"
   ]
  },
  {
   "cell_type": "code",
   "execution_count": null,
   "metadata": {},
   "outputs": [],
   "source": []
  }
 ],
 "metadata": {
  "kernelspec": {
   "display_name": "Python 3",
   "language": "python",
   "name": "python3"
  },
  "language_info": {
   "codemirror_mode": {
    "name": "ipython",
    "version": 3
   },
   "file_extension": ".py",
   "mimetype": "text/x-python",
   "name": "python",
   "nbconvert_exporter": "python",
   "pygments_lexer": "ipython3",
   "version": "3.7.6"
  }
 },
 "nbformat": 4,
 "nbformat_minor": 4
}
