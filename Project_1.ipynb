{
 "cells": [
  {
   "cell_type": "markdown",
   "metadata": {},
   "source": [
    "# W205 2020 Fall Project 1: Query Project \n"
   ]
  },
  {
   "cell_type": "markdown",
   "metadata": {},
   "source": [
    "## Abstract \n",
    "\n",
    "(USE THESE TABLES!) The static tables we will be using in this class are in the dataset san_francisco :\n",
    "\n",
    "bikeshare_stations\n",
    "\n",
    "bikeshare_status\n",
    "\n",
    "bikeshare_trips"
   ]
  },
  {
   "cell_type": "markdown",
   "metadata": {},
   "source": [
    "## Part 1 - Querying Data with BigQuery"
   ]
  },
  {
   "cell_type": "markdown",
   "metadata": {},
   "source": [
    "### Initial Questions\n",
    "\n",
    "- What's the size of this dataset? (i.e., how many trips)\n",
    "   * Answer:\n",
    "     - There are 74 stations in the table of bikeshare_stations. In addition, all rows are distinct stations in the table. \n",
    "     - There are 107501619 status records in the table of san_francisco.bikeshare_status.\n",
    "     - There are 983648 trips in record in the table of san_francisco.bikeshare_trips. In addition, all the trip IDs in record are distinct.\n",
    "     \n",
    " \n",
    "   * SQL query:\n",
    "   \n",
    "```sql \n",
    "    #standardSQL\n",
    "    select count(station_id)\n",
    "    from `bigquery-public-data.san_francisco.bikeshare_stations`\n",
    "```  \n",
    "\n",
    "Row | StationsSize\n",
    "--- | ------------\n",
    "1   | 74\n",
    "\n",
    "    \n",
    "```sql\n",
    "    #standardSQL\n",
    "    select count(distinct station_id) as StationsNumber\n",
    "    from `bigquery-public-data.san_francisco.bikeshare_stations`\n",
    "```\n",
    "    \n",
    "Row | StationsNumber\n",
    "--- | --------------\n",
    "1\t| 74\n",
    "\n",
    "```sql\n",
    "    #standardSQL\n",
    "    select count(*) as StatusNumber\n",
    "    from `bigquery-public-data.san_francisco.bikeshare_status`\n",
    "```\n",
    "\n",
    "Row | StatusNumber\n",
    "--- | --------------\n",
    "1\t|107501619\n",
    "\n",
    "```sql\n",
    "    #standardSQL\n",
    "    select count(*) as TripsSize\n",
    "    from `bigquery-public-data.san_francisco.bikeshare_trips`\n",
    "```\n",
    "Row | TripsSize\t\n",
    "--- | ---------\n",
    "1\t| 983648\n",
    "\n",
    "```sql\n",
    "    #standardSQL\n",
    "    select count(distinct trip_id) as TripsNumber\n",
    "    from `bigquery-public-data.san_francisco.bikeshare_trips`\n",
    "```\n",
    "Row\t| TripsNumber\t\n",
    "--- | -----------\n",
    "1\t| 983648\n"
   ]
  },
  {
   "cell_type": "markdown",
   "metadata": {},
   "source": [
    " - What is the earliest start date and time and latest end date and time for a trip?\n",
    "   * Answer: The earliset start date & time is 2013-08-29 09:08:00 UTC; the latest end date & time is 2016-08-31 23:48:00 UTC.\n",
    " \n",
    "   * SQL query:\n",
    "\n",
    "```sql\n",
    "    #standardSQL\n",
    "    select min(start_date) as EarlyTime\n",
    "    from `bigquery-public-data.san_francisco.bikeshare_trips`\n",
    "```\n",
    "Row\t| EarlyTime\t\n",
    "--- | ---------\n",
    "1\t| 2013-08-29 09:08:00 UTC\n",
    "\n",
    "```sql\n",
    "    #standardSQL\n",
    "    select max(end_date) as LateTime\n",
    "    from `bigquery-public-data.san_francisco.bikeshare_trips`\n",
    "```\n",
    "Row | LateTime\t\n",
    "--- | --------\n",
    "1\t| 2016-08-31 23:48:00 UTC"
   ]
  },
  {
   "cell_type": "markdown",
   "metadata": {},
   "source": [
    " - How many bikes are there?\n",
    "   * Answer: Assuming all bikes have been used for trips have been recoreded, there are 700 bikes according to the distinct bike ID from the table bikeshare_trips. In addition, the maximum total availability of all  stations is fewer than 641, which is a supporting evidence.\n",
    "   * SQL query:\n",
    "\n",
    "```sql\n",
    "    #standardSQL\n",
    "    select count(distinct bike_number) as BikesNumber\n",
    "    from `bigquery-public-data.san_francisco.bikeshare_trips`\n",
    "```\n",
    "\n",
    "Row | BikesNumber\t\n",
    "--- | -----------\n",
    "1\t| 700\n",
    "\n",
    "\n",
    "```sql\n",
    "    #standardSQL\n",
    "    select sum (bikes_available) as total_available, time \n",
    "    from `bigquery-public-data.san_francisco.bikeshare_status`\n",
    "    group by time\n",
    "    order by total_available DESC LIMIT 5\n",
    "```\n",
    "Row | total_available | time\n",
    "--- | --------------- | ----\n",
    "1\t| 641 | 2014-11-01 03:56:02 UTC\n",
    "2\t| 640 | 2014-11-01 00:33:03 UTC\n",
    "3\t| 640 | 2014-11-01 01:18:03 UTC\n",
    "4\t| 640 | 2014-11-01 06:20:02 UTC\n",
    "5\t| 640 | 2014-11-01 03:48:03 UTC\n"
   ]
  },
  {
   "cell_type": "markdown",
   "metadata": {},
   "source": [
    "### Author's own Questions \n",
    "\n",
    "- Question 1:: In which zip code area, there are the most share trips?\n",
    "\n",
    "  * Answer: Zip code 94107 is the most popular for share trips. \n",
    "  * SQL query:\n",
    "\n",
    "```sql\n",
    "    #standardSQL\n",
    "    select count (distinct trip_id) as trips_number, zip_code \n",
    "    from `bigquery-public-data.san_francisco.bikeshare_trips`\n",
    "    group by zip_code\n",
    "    order by trips_number DESC LIMIT 5\n",
    "```\n",
    "Row\t| trips_number | zip_code\t\n",
    "--- | ------------ | --------\n",
    "1\t| 106913 | 94107\n",
    "2\t| 61232 | 94105\n",
    "3\t| 46544 | 94133\n",
    "4\t| 38072 | 94103\n",
    "5\t| 33642 | 94111\n",
    "\n"
   ]
  },
  {
   "cell_type": "markdown",
   "metadata": {},
   "source": [
    " - Question 2: Which station is the most popular as a start station, and end station. \n",
    " \n",
    "   * Answer: San Francisco Caltrain (Townsend at 4th) is the most popular as both start station and end station.\n",
    "   * SQL query:\n",
    "\n",
    "```sql\n",
    "    #standardSQL\n",
    "    select count (*) as trips_number, start_station_name \n",
    "    from `bigquery-public-data.san_francisco.bikeshare_trips`\n",
    "    group by start_station_id, start_station_name\n",
    "    order by trips_number DESC LIMIT 5\n",
    "```\n",
    "\n",
    "Row | trips_number | start_station_name\t\n",
    "--- | ------------ | ------------------\n",
    "1 |\t72683 | San Francisco Caltrain (Townsend at 4th)\n",
    "2 |\t56100 | San Francisco Caltrain 2 (330 Townsend)\n",
    "3 | 49062 | Harry Bridges Plaza (Ferry Building)\n",
    "4 | 41137 | Embarcadero at Sansome\n",
    "5 | 39936 | 2nd at Townsend\n",
    "\n",
    "\n",
    "```sql\n",
    "    #standardSQL\n",
    "    select count (*) as trips_number, end_station_name \n",
    "    from `bigquery-public-data.san_francisco.bikeshare_trips`\n",
    "    group by end_station_id, end_station_name\n",
    "    order by trips_number DESC LIMIT 5\n",
    "```\n",
    "Row\t| trips_number | end_station_name\n",
    "--- | ------------ | ----------------\n",
    "1\t| 92014      | San Francisco Caltrain (Townsend at 4th)\n",
    "2\t| 58713      | San Francisco Caltrain 2 (330 Townsend)\n",
    "3\t| 50185      | Harry Bridges Plaza (Ferry Building)\n",
    "4\t| 46197      | Embarcadero at Sansome\n",
    "5\t| 44145      | 2nd at Townsend"
   ]
  },
  {
   "cell_type": "markdown",
   "metadata": {},
   "source": [
    " - Question 3: What is the longest and shortest duration of the trip?\n",
    "\n",
    "    * Answer: The longest trip duration is 17270400 seconds, which is over 199 days; while the shortest trip lasts 60 seconds. \n",
    "    * SQL query:\n",
    "\n",
    "```sql\n",
    "    #standardSQL\n",
    "    select max (duration_sec) as max_duration_sec \n",
    "    from `bigquery-public-data.san_francisco.bikeshare_trips`\n",
    "```\n",
    "Row\t| max_duration_sec\n",
    "--- | ----------------\n",
    "1\t| 17270400\n",
    "\n",
    "```sql\n",
    "    #standardSQL\n",
    "    select min (duration_sec) as min_duration_sec \n",
    "    from `bigquery-public-data.san_francisco.bikeshare_trips`\n",
    "```\n",
    "Row\t| min_duration_sec\n",
    "--- | ----------------\n",
    "1\t| 60"
   ]
  },
  {
   "cell_type": "markdown",
   "metadata": {},
   "source": [
    "## Part 2-Querying data from the BigQuery CLI\n",
    "\n",
    "### Queries\n",
    "\n",
    "1. Rerun the first 3 queries from Part 1 using bq command line tool:\n",
    "   "
   ]
  },
  {
   "cell_type": "markdown",
   "metadata": {},
   "source": [
    "  * What's the size of this dataset? (i.e., how many trips)\n",
    "  \n",
    "```\n",
    "    bq query --use_legacy_sql=false '\n",
    "        select count(distinct station_id) as stations_number \n",
    "        from \n",
    "            `bigquery-public-data.san_francisco.bikeshare_stations`' \n",
    "```\n",
    "        +-----------------+\n",
    "        | stations_number |\n",
    "        +-----------------+\n",
    "        |              74 |\n",
    "        +-----------------+ \n",
    "        \n",
    "\n",
    "```\n",
    "    bq query --use_legacy_sql=false '\n",
    "        select count (distinct trip_id) as trips_number \n",
    "        from \n",
    "            `bigquery-public-data.san_francisco.bikeshare_trips`'\n",
    "```\n",
    "        +--------------+\n",
    "        | trips_number |\n",
    "        +--------------+\n",
    "        |       983648 |\n",
    "        +--------------+\n",
    "        \n",
    "        \n",
    "```\n",
    "        bq query --use_legacy_sql=false '\n",
    "            select count(*) as StatusNumber \n",
    "            from \n",
    "                `bigquery-public-data.san_francisco.bikeshare_status`'\n",
    "```   \n",
    "        +--------------+\n",
    "        | StatusNumber |\n",
    "        +--------------+\n",
    "        |    107501619 |\n",
    "        +--------------+\n",
    "    "
   ]
  },
  {
   "cell_type": "code",
   "execution_count": 10,
   "metadata": {},
   "outputs": [
    {
     "name": "stdout",
     "output_type": "stream",
     "text": [
      "Waiting on bqjob_r63b6d123c5d4b877_00000174b8c4e556_1 ... (0s) Current status: DONE   \n",
      "+-----------------+\n",
      "| stations_number |\n",
      "+-----------------+\n",
      "|              74 |\n",
      "+-----------------+\n"
     ]
    }
   ],
   "source": [
    "! bq query --use_legacy_sql=false 'select count(distinct station_id) as stations_number from `bigquery-public-data.san_francisco.bikeshare_stations`' "
   ]
  },
  {
   "cell_type": "code",
   "execution_count": 11,
   "metadata": {},
   "outputs": [
    {
     "name": "stdout",
     "output_type": "stream",
     "text": [
      "Waiting on bqjob_r23b19363b111a48f_00000174b8c57318_1 ... (0s) Current status: DONE   \n",
      "+--------------+\n",
      "| trips_number |\n",
      "+--------------+\n",
      "|       983648 |\n",
      "+--------------+\n"
     ]
    }
   ],
   "source": [
    "! bq query --use_legacy_sql=false 'select count (distinct trip_id) as trips_number from `bigquery-public-data.san_francisco.bikeshare_trips`'"
   ]
  },
  {
   "cell_type": "code",
   "execution_count": 12,
   "metadata": {},
   "outputs": [
    {
     "name": "stdout",
     "output_type": "stream",
     "text": [
      "Waiting on bqjob_r6d813c9e01471ae6_00000174b8c5b790_1 ... (0s) Current status: DONE   \n",
      "+--------------+\n",
      "| StatusNumber |\n",
      "+--------------+\n",
      "|    107501619 |\n",
      "+--------------+\n"
     ]
    }
   ],
   "source": [
    "! bq query --use_legacy_sql=false 'select count(*) as StatusNumber from `bigquery-public-data.san_francisco.bikeshare_status`'"
   ]
  },
  {
   "cell_type": "markdown",
   "metadata": {},
   "source": [
    "  * What is the earliest start time and latest end time for a trip?\n",
    "  \n",
    "```\n",
    "    bq query --use_legacy_sql=false '\n",
    "        select min(start_date) as EarlyTime, max(end_date) as LateTime \n",
    "        from \n",
    "            `bigquery-public-data.san_francisco.bikeshare_trips`'  \n",
    "```\n",
    "\n",
    "        +---------------------+---------------------+\n",
    "        |      EarlyTime      |      LateTime       |\n",
    "        +---------------------+---------------------+\n",
    "        | 2013-08-29 09:08:00 | 2016-08-31 23:48:00 |\n",
    "        +---------------------+---------------------+\n",
    "\n"
   ]
  },
  {
   "cell_type": "code",
   "execution_count": 8,
   "metadata": {},
   "outputs": [
    {
     "name": "stdout",
     "output_type": "stream",
     "text": [
      "Waiting on bqjob_r4813061ba4935c0e_00000174b8c3e56b_1 ... (0s) Current status: DONE   \n",
      "+---------------------+---------------------+\n",
      "|      EarlyTime      |      LateTime       |\n",
      "+---------------------+---------------------+\n",
      "| 2013-08-29 09:08:00 | 2016-08-31 23:48:00 |\n",
      "+---------------------+---------------------+\n"
     ]
    }
   ],
   "source": [
    "! bq query --use_legacy_sql=false 'select min(start_date) as EarlyTime, max(end_date) as LateTime from `bigquery-public-data.san_francisco.bikeshare_trips`'"
   ]
  },
  {
   "cell_type": "markdown",
   "metadata": {},
   "source": [
    "  * How many bikes are there?\n",
    "  \n",
    "```\n",
    "    bq query --use_legacy_sql=false '\n",
    "        select count(distinct bike_number) as BikesNumber \n",
    "        from \n",
    "            `bigquery-public-data.san_francisco.bikeshare_trips`'\n",
    "```\n",
    "        +-------------+\n",
    "        | BikesNumber |\n",
    "        +-------------+\n",
    "        |         700 |\n",
    "        +-------------+"
   ]
  },
  {
   "cell_type": "code",
   "execution_count": 13,
   "metadata": {},
   "outputs": [
    {
     "name": "stdout",
     "output_type": "stream",
     "text": [
      "Waiting on bqjob_r25c05662f561d17a_00000174b8c68572_1 ... (0s) Current status: DONE   \n",
      "+-------------+\n",
      "| BikesNumber |\n",
      "+-------------+\n",
      "|         700 |\n",
      "+-------------+\n"
     ]
    }
   ],
   "source": [
    "! bq query --use_legacy_sql=false 'select count(distinct bike_number) as BikesNumber from `bigquery-public-data.san_francisco.bikeshare_trips`'"
   ]
  },
  {
   "cell_type": "markdown",
   "metadata": {},
   "source": [
    "2. New Query (Run using bq and paste your SQL query and answer the question in a sentence, using properly formatted markdown):\n",
    "\n",
    "  * How many trips are in the morning vs in the afternoon?\n",
    "    * Answer: There are 398273 morning trips(start and end at AM), 569438 afternoon trips(start and end at PM). While there are 14066 trips that start at AM and end at PM, 1871 trips that start at PM and end at AM.\n",
    "    * SQL query:"
   ]
  },
  {
   "cell_type": "code",
   "execution_count": 2,
   "metadata": {},
   "outputs": [
    {
     "name": "stdout",
     "output_type": "stream",
     "text": [
      "Waiting on bqjob_r80051c89aadb5f5_00000174c9255248_1 ... (2s) Current status: DONE   \n",
      "+---------------+\n",
      "| Morining_tirp |\n",
      "+---------------+\n",
      "|        398273 |\n",
      "+---------------+\n"
     ]
    }
   ],
   "source": [
    "! bq query --use_legacy_sql=false 'SELECT COUNT(DISTINCT TP.trip_id) as Morining_tirp FROM (SELECT trip_id, FORMAT_TIMESTAMP(\"%P\", start_date) AS start_time, FORMAT_TIMESTAMP(\"%P\", end_date) AS end_time, from `bigquery-public-data.san_francisco.bikeshare_trips`) AS TP where TP.start_time = \"am\" and TP.end_time = \"am\"'"
   ]
  },
  {
   "cell_type": "code",
   "execution_count": 3,
   "metadata": {},
   "outputs": [
    {
     "name": "stdout",
     "output_type": "stream",
     "text": [
      "Waiting on bqjob_r325c478629a48602_00000174c925ed9e_1 ... (1s) Current status: DONE   \n",
      "+----------------+\n",
      "| Afternoon_trip |\n",
      "+----------------+\n",
      "|         569438 |\n",
      "+----------------+\n"
     ]
    }
   ],
   "source": [
    "! bq query --use_legacy_sql=false 'SELECT COUNT(DISTINCT TP.trip_id) as Afternoon_trip FROM (SELECT trip_id, FORMAT_TIMESTAMP(\"%P\", start_date) AS start_time, FORMAT_TIMESTAMP(\"%P\", end_date) AS end_time, from `bigquery-public-data.san_francisco.bikeshare_trips`) AS TP where TP.start_time = \"pm\" and TP.end_time = \"pm\"'"
   ]
  },
  {
   "cell_type": "code",
   "execution_count": 5,
   "metadata": {},
   "outputs": [
    {
     "name": "stdout",
     "output_type": "stream",
     "text": [
      "Waiting on bqjob_r4ece870aeeada8db_00000174c927198e_1 ... (1s) Current status: DONE   \n",
      "+--------------+\n",
      "| Mor_Aft_trip |\n",
      "+--------------+\n",
      "|        14066 |\n",
      "+--------------+\n"
     ]
    }
   ],
   "source": [
    "! bq query --use_legacy_sql=false 'SELECT COUNT(DISTINCT TP.trip_id) as Mor_Aft_trip FROM (SELECT trip_id, FORMAT_TIMESTAMP(\"%P\", start_date) AS start_time, FORMAT_TIMESTAMP(\"%P\", end_date) AS end_time, from `bigquery-public-data.san_francisco.bikeshare_trips`) AS TP where TP.start_time = \"am\" and TP.end_time = \"pm\"'"
   ]
  },
  {
   "cell_type": "code",
   "execution_count": 6,
   "metadata": {},
   "outputs": [
    {
     "name": "stdout",
     "output_type": "stream",
     "text": [
      "Waiting on bqjob_r6d1b18be7a3e5f13_00000174c927a3fc_1 ... (1s) Current status: DONE   \n",
      "+--------------+\n",
      "| Aft_Mor_trip |\n",
      "+--------------+\n",
      "|         1871 |\n",
      "+--------------+\n"
     ]
    }
   ],
   "source": [
    "! bq query --use_legacy_sql=false 'SELECT COUNT(DISTINCT TP.trip_id) as Aft_Mor_trip FROM (SELECT trip_id, FORMAT_TIMESTAMP(\"%P\", start_date) AS start_time, FORMAT_TIMESTAMP(\"%P\", end_date) AS end_time, from `bigquery-public-data.san_francisco.bikeshare_trips`) AS TP where TP.start_time = \"pm\" and TP.end_time = \"am\"'"
   ]
  },
  {
   "cell_type": "markdown",
   "metadata": {},
   "source": [
    "## Project Questions\n",
    "Main questions need to answer to make recommendations.\n",
    "\n",
    "- Question 1: How is the duration time distribution of all the trips (trips in certain duration time range)?\n",
    "\n",
    "- Question 2: What is the difference between customer and subscriber users in using habbit (average trips duration, trips number, etc)?\n",
    "\n",
    "- Question 3: How many trips are of different start, end stations vs of same start, end stations? \n",
    "\n",
    "- Question 4: How many trips are there in each weekday? \n",
    "\n",
    "- Question 5: How many trips are there in every month?\n",
    "\n",
    "- Question 6: What is the trend of bikes and docks availability for the most popular stations (hourly, weekly, monthly)?\n"
   ]
  },
  {
   "cell_type": "markdown",
   "metadata": {},
   "source": [
    "### Answers"
   ]
  },
  {
   "cell_type": "markdown",
   "metadata": {},
   "source": [
    "- Question 1: How is the duration time distribution of all the trips (trips in certain duration time range)?\n",
    "  * Answer: Overall, there are nearly 600 thousands trips last no longer than 10 minutes. Most trips (over 900 thousands) last no longer than 30 minutes. There is difference in trip duration distribution between customers and subscribers. Trips that are no longer than 10 minutes are dominant for subsribers, while most popular trip duration range for customer is between 10 and 30 minutes. In addition, there are considerate amount trips between 45 minutes and 2 hours for customers. Assumed that most commute tirps are contributed by subscribers, it shows that most commute trips are no longer than 45 minutes. \n",
    "  * SQL query:"
   ]
  },
  {
   "cell_type": "code",
   "execution_count": 10,
   "metadata": {},
   "outputs": [
    {
     "name": "stdout",
     "output_type": "stream",
     "text": [
      "Waiting on bqjob_r1c8e412cc175cc12_00000174cc2fb849_1 ... (0s) Current status: DONE   \n",
      "+---------------+-------------+\n",
      "| duration_band | trip_number |\n",
      "+---------------+-------------+\n",
      "| 0-10min       |      595803 |\n",
      "| 10-30min      |      340508 |\n",
      "| 30-45min      |       12906 |\n",
      "| 1-2hr         |       11890 |\n",
      "| 2-5hr         |       11112 |\n",
      "| 45-60min      |        6340 |\n",
      "| 5-12hr        |        3699 |\n",
      "| 12hr-24hr     |        1094 |\n",
      "| 24hr+         |         296 |\n",
      "+---------------+-------------+\n"
     ]
    }
   ],
   "source": [
    "! bq query --use_legacy_sql=false 'select case when duration_sec between 0 and 600 then \"0-10min\" when duration_sec between 600 and 1800 then \"10-30min\" when duration_sec between 1800 and 2700 then \"30-45min\" when duration_sec between 2700 and 3600 then \"45-60min\" when duration_sec between 3600 and 7200 then \"1-2hr\" when duration_sec between 7200 and 18000 then \"2-5hr\" when duration_sec between 18000 and 43200 then \"5-12hr\" when duration_sec between 43200 and 86400 then \"12hr-24hr\" when duration_sec > 86400 then \"24hr+\" end as duration_band, count(*) as trip_number from `bigquery-public-data.san_francisco.bikeshare_trips` group by duration_band order by trip_number DESC' "
   ]
  },
  {
   "cell_type": "code",
   "execution_count": 11,
   "metadata": {},
   "outputs": [
    {
     "name": "stdout",
     "output_type": "stream",
     "text": [
      "Waiting on bqjob_r305e076732b6edd4_00000174cc2fee72_1 ... (0s) Current status: DONE   \n",
      "+------------------------+----------------------+\n",
      "| Customer_duration_band | Customer_trip_number |\n",
      "+------------------------+----------------------+\n",
      "| 10-30min               |                66208 |\n",
      "| 0-10min                |                28588 |\n",
      "| 1-2hr                  |                10924 |\n",
      "| 2-5hr                  |                10514 |\n",
      "| 30-45min               |                10508 |\n",
      "| 45-60min               |                 5683 |\n",
      "| 5-12hr                 |                 3266 |\n",
      "| 12hr-24hr              |                  870 |\n",
      "| 24hr+                  |                  248 |\n",
      "+------------------------+----------------------+\n"
     ]
    }
   ],
   "source": [
    "! bq query --use_legacy_sql=false 'select case when duration_sec between 0 and 600 then \"0-10min\" when duration_sec between 600 and 1800 then \"10-30min\" when duration_sec between 1800 and 2700 then \"30-45min\" when duration_sec between 2700 and 3600 then \"45-60min\" when duration_sec between 3600 and 7200 then \"1-2hr\" when duration_sec between 7200 and 18000 then \"2-5hr\" when duration_sec between 18000 and 43200 then \"5-12hr\" when duration_sec between 43200 and 86400 then \"12hr-24hr\" when duration_sec > 86400 then \"24hr+\" end as Customer_duration_band, count(*) as Customer_trip_number from `bigquery-public-data.san_francisco.bikeshare_trips` where subscriber_type = \"Customer\" group by Customer_duration_band order by Customer_trip_number DESC'"
   ]
  },
  {
   "cell_type": "code",
   "execution_count": 12,
   "metadata": {},
   "outputs": [
    {
     "name": "stdout",
     "output_type": "stream",
     "text": [
      "Waiting on bqjob_r17e690f133934cd3_00000174cc30283f_1 ... (0s) Current status: DONE   \n",
      "+--------------------------+------------------------+\n",
      "| Subscriber_duration_band | Subscriber_trip_number |\n",
      "+--------------------------+------------------------+\n",
      "| 0-10min                  |                 567215 |\n",
      "| 10-30min                 |                 274300 |\n",
      "| 30-45min                 |                   2398 |\n",
      "| 1-2hr                    |                    966 |\n",
      "| 45-60min                 |                    657 |\n",
      "| 2-5hr                    |                    598 |\n",
      "| 5-12hr                   |                    433 |\n",
      "| 12hr-24hr                |                    224 |\n",
      "| 24hr+                    |                     48 |\n",
      "+--------------------------+------------------------+\n"
     ]
    }
   ],
   "source": [
    "! bq query --use_legacy_sql=false 'select case when duration_sec between 0 and 600 then \"0-10min\" when duration_sec between 600 and 1800 then \"10-30min\" when duration_sec between 1800 and 2700 then \"30-45min\" when duration_sec between 2700 and 3600 then \"45-60min\" when duration_sec between 3600 and 7200 then \"1-2hr\" when duration_sec between 7200 and 18000 then \"2-5hr\" when duration_sec between 18000 and 43200 then \"5-12hr\" when duration_sec between 43200 and 86400 then \"12hr-24hr\" when duration_sec > 86400 then \"24hr+\" end as Subscriber_duration_band, count(*) as Subscriber_trip_number from `bigquery-public-data.san_francisco.bikeshare_trips` where subscriber_type = \"Subscriber\" group by Subscriber_duration_band order by Subscriber_trip_number DESC'"
   ]
  },
  {
   "cell_type": "markdown",
   "metadata": {},
   "source": [
    "- Question 2: What is the difference between customer and subscriber users in using habbit (average trips duration, trips number, etc)?\n",
    "  * Answer: There are over 800 thousands trips contributed by subscribers, with average trip duration shorter than 10 minutes. While, there are about 136 thousands trips contributed by customers, with average trip duration above 1 hour. \n",
    "  * SQL query:"
   ]
  },
  {
   "cell_type": "code",
   "execution_count": 9,
   "metadata": {},
   "outputs": [
    {
     "name": "stdout",
     "output_type": "stream",
     "text": [
      "Waiting on bqjob_r5880bb270823c6ad_00000174c3270d98_1 ... (0s) Current status: DONE   \n",
      "+----------------------+-------------------+\n",
      "| Customer_Trip_Number | Average_duration  |\n",
      "+----------------------+-------------------+\n",
      "|               136809 | 3718.785160333024 |\n",
      "+----------------------+-------------------+\n"
     ]
    }
   ],
   "source": [
    "! bq query --use_legacy_sql=false 'SELECT COUNT(trip_id) as Customer_Trip_Number, avg(duration_sec) as Average_duration from `bigquery-public-data.san_francisco.bikeshare_trips` where subscriber_type = \"Customer\"'"
   ]
  },
  {
   "cell_type": "code",
   "execution_count": 19,
   "metadata": {},
   "outputs": [
    {
     "name": "stdout",
     "output_type": "stream",
     "text": [
      "Waiting on bqjob_r49a34bcd25ed03ab_00000174c3383b7d_1 ... (0s) Current status: DONE   \n",
      "+------------------------+-------------------+\n",
      "| Subscriber_Trip_Number | Average_duration  |\n",
      "+------------------------+-------------------+\n",
      "|                 846839 | 582.7642397197222 |\n",
      "+------------------------+-------------------+\n"
     ]
    }
   ],
   "source": [
    "! bq query --use_legacy_sql=false 'SELECT COUNT(trip_id) as Subscriber_Trip_Number, AVG(duration_sec) as Average_duration, from `bigquery-public-data.san_francisco.bikeshare_trips` where subscriber_type = \"Subscriber\"'"
   ]
  },
  {
   "cell_type": "markdown",
   "metadata": {},
   "source": [
    "- Question 3: How many trips are of different start, end stations Vs thoes of same start, end stations? \n",
    "  * Answer: Over 951 thousands trips(96%) are of different start and end stations and only 32 thousands tirps are of same start and end stations. In addition, average duration of trips that start and end at the same station is over 1.6 hour, which means these trips are more likely to be viewing trips instead of commuter trips. \n",
    "  * SQL query:\n"
   ]
  },
  {
   "cell_type": "code",
   "execution_count": 26,
   "metadata": {},
   "outputs": [
    {
     "name": "stdout",
     "output_type": "stream",
     "text": [
      "Waiting on bqjob_r41afb4448867412c_00000174c3483b07_1 ... (0s) Current status: DONE   \n",
      "+-------------------------+--------------------+\n",
      "| Same_start_end_stations |  Average_duration  |\n",
      "+-------------------------+--------------------+\n",
      "|                   32047 | 5941.4904047180235 |\n",
      "+-------------------------+--------------------+\n"
     ]
    }
   ],
   "source": [
    "! bq query --use_legacy_sql=false 'SELECT COUNT(trip_id) as Same_start_end_stations, avg(duration_sec) as Average_duration from `bigquery-public-data.san_francisco.bikeshare_trips` where start_station_id = end_station_id'"
   ]
  },
  {
   "cell_type": "code",
   "execution_count": 22,
   "metadata": {},
   "outputs": [
    {
     "name": "stdout",
     "output_type": "stream",
     "text": [
      "Waiting on bqjob_r1ff31150966e4a0d_00000174c34164e5_1 ... (0s) Current status: DONE   \n",
      "+------------------------------+-------------------+\n",
      "| Different_start_end_stations | Average_duration  |\n",
      "+------------------------------+-------------------+\n",
      "|                       951601 | 853.1557049645941 |\n",
      "+------------------------------+-------------------+\n"
     ]
    }
   ],
   "source": [
    "! bq query --use_legacy_sql=false 'SELECT COUNT(trip_id) as Different_start_end_stations, avg(duration_sec) as Average_duration from `bigquery-public-data.san_francisco.bikeshare_trips` where start_station_id != end_station_id'"
   ]
  },
  {
   "cell_type": "markdown",
   "metadata": {},
   "source": [
    "- Question 4: How many trips are there in each weekday? \n",
    "  * Answer: According to question 1 most commute trips are no longer than 45 minutes, trips that no longer than 45 minutes are investigated here. In addition, there are only trips that start and end on different days among above trips. So trips that are longer than 45 minutes and start and end on the same day are investigated here. Overall, most such trips are made during weekdays with over 100 thousands shortage per day during weekend. When it come to subsriber users, such difference between weekdays and weekends is more obvious. On the other hand, most trips from customer users are on Saturday. To sum up, trips made by subscribers on weekdays are more likely to be commuting trips. \n",
    "  * SQL query:"
   ]
  },
  {
   "cell_type": "code",
   "execution_count": 13,
   "metadata": {},
   "outputs": [
    {
     "name": "stdout",
     "output_type": "stream",
     "text": [
      "Waiting on bqjob_r7771244935aa29d_00000174cc33e37f_1 ... (2s) Current status: DONE   \n",
      "+----------------+\n",
      "| cross_day_trip |\n",
      "+----------------+\n",
      "|            721 |\n",
      "+----------------+\n"
     ]
    }
   ],
   "source": [
    "! bq query --use_legacy_sql=false 'select count(*) as cross_day_trip from (SELECT trip_id, FORMAT_TIMESTAMP(\"%a\", start_date) AS start_day, FORMAT_TIMESTAMP(\"%a\", end_date) AS end_day, from `bigquery-public-data.san_francisco.bikeshare_trips` where duration_sec < 2700) where start_day != end_day'"
   ]
  },
  {
   "cell_type": "code",
   "execution_count": 14,
   "metadata": {},
   "outputs": [
    {
     "name": "stdout",
     "output_type": "stream",
     "text": [
      "Waiting on bqjob_r3eb6cf5ceda36145_00000174cc3418c2_1 ... (2s) Current status: DONE   \n",
      "+-------------------+-----------+\n",
      "| Same_day_trip_num | start_day |\n",
      "+-------------------+-----------+\n",
      "|            180969 | Tue       |\n",
      "|            177196 | Wed       |\n",
      "|            173067 | Thu       |\n",
      "|            166140 | Mon       |\n",
      "|            155008 | Fri       |\n",
      "|             52289 | Sat       |\n",
      "|             43821 | Sun       |\n",
      "+-------------------+-----------+\n"
     ]
    }
   ],
   "source": [
    "! bq query --use_legacy_sql=false 'select count(trip_id) as Same_day_trip_num, start_day from (SELECT trip_id, FORMAT_TIMESTAMP(\"%a\", start_date) AS start_day, FORMAT_TIMESTAMP(\"%a\", end_date) AS end_day, from `bigquery-public-data.san_francisco.bikeshare_trips` where duration_sec < 2700) where start_day = end_day group by start_day order by Same_day_trip_num DESC'"
   ]
  },
  {
   "cell_type": "code",
   "execution_count": 15,
   "metadata": {},
   "outputs": [
    {
     "name": "stdout",
     "output_type": "stream",
     "text": [
      "Waiting on bqjob_r65862efc2c5c02b_00000174cc344d16_1 ... (0s) Current status: DONE   \n",
      "+----------------------------+-----------+\n",
      "| Customer_same_day_trip_num | start_day |\n",
      "+----------------------------+-----------+\n",
      "|                      21504 | Sat       |\n",
      "|                      18546 | Sun       |\n",
      "|                      15563 | Fri       |\n",
      "|                      13347 | Thu       |\n",
      "|                      12275 | Wed       |\n",
      "|                      11909 | Tue       |\n",
      "|                      11882 | Mon       |\n",
      "+----------------------------+-----------+\n"
     ]
    }
   ],
   "source": [
    "! bq query --use_legacy_sql=false 'select count(trip_id) as Customer_same_day_trip_num, start_day from (SELECT trip_id, FORMAT_TIMESTAMP(\"%a\", start_date) AS start_day, FORMAT_TIMESTAMP(\"%a\", end_date) AS end_day, from `bigquery-public-data.san_francisco.bikeshare_trips` where duration_sec < 2700 and subscriber_type = \"Customer\") where start_day = end_day group by start_day order by Customer_same_day_trip_num DESC'"
   ]
  },
  {
   "cell_type": "code",
   "execution_count": 16,
   "metadata": {},
   "outputs": [
    {
     "name": "stdout",
     "output_type": "stream",
     "text": [
      "Waiting on bqjob_r5527c51cd783a8b3_00000174cc3472c1_1 ... (2s) Current status: DONE   \n",
      "+------------------------------+-----------+\n",
      "| Subscriber_same_day_trip_num | start_day |\n",
      "+------------------------------+-----------+\n",
      "|                       169060 | Tue       |\n",
      "|                       164921 | Wed       |\n",
      "|                       159720 | Thu       |\n",
      "|                       154258 | Mon       |\n",
      "|                       139445 | Fri       |\n",
      "|                        30785 | Sat       |\n",
      "|                        25275 | Sun       |\n",
      "+------------------------------+-----------+\n"
     ]
    }
   ],
   "source": [
    "! bq query --use_legacy_sql=false 'select count(trip_id) as Subscriber_same_day_trip_num, start_day from (SELECT trip_id, FORMAT_TIMESTAMP(\"%a\", start_date) AS start_day, FORMAT_TIMESTAMP(\"%a\", end_date) AS end_day, from `bigquery-public-data.san_francisco.bikeshare_trips` where duration_sec < 2700 and subscriber_type = \"Subscriber\") where start_day = end_day group by start_day order by Subscriber_same_day_trip_num DESC'"
   ]
  },
  {
   "cell_type": "markdown",
   "metadata": {},
   "source": [
    "- Question 5. How many trips are there in every month?\n",
    "  * Answer: For customers, there are more trips in September, August and October. While there are much fewer trips happened from November to February. For subscribers, trips distribution is more uniform between months. At the same time, this difference between customers and subsribers is more outstanding when only considering trips no longer than 45 minutes. \n",
    "  * SQL query:"
   ]
  },
  {
   "cell_type": "code",
   "execution_count": 23,
   "metadata": {},
   "outputs": [
    {
     "name": "stdout",
     "output_type": "stream",
     "text": [
      "Waiting on bqjob_r77c2bb3aa7a3c89d_00000174cc424ee0_1 ... (0s) Current status: DONE   \n",
      "+-------------------+-------+\n",
      "| Customer_trip_num | month |\n",
      "+-------------------+-------+\n",
      "|             17310 | 09    |\n",
      "|             15543 | 08    |\n",
      "|             14038 | 10    |\n",
      "|             13152 | 07    |\n",
      "|             12741 | 05    |\n",
      "|             12147 | 06    |\n",
      "|             10158 | 03    |\n",
      "|              9978 | 04    |\n",
      "|              9371 | 11    |\n",
      "|              7862 | 02    |\n",
      "|              7713 | 01    |\n",
      "|              6796 | 12    |\n",
      "+-------------------+-------+\n"
     ]
    }
   ],
   "source": [
    "! bq query --use_legacy_sql=false 'select count(trip_id) as Customer_trip_num, month from (SELECT trip_id, FORMAT_TIMESTAMP(\"%m\", start_date) as month from `bigquery-public-data.san_francisco.bikeshare_trips` where subscriber_type = \"Customer\") group by month order by Customer_trip_num DESC'"
   ]
  },
  {
   "cell_type": "code",
   "execution_count": 24,
   "metadata": {},
   "outputs": [
    {
     "name": "stdout",
     "output_type": "stream",
     "text": [
      "Waiting on bqjob_r352344d18551a002_00000174cc44cf08_1 ... (1s) Current status: DONE   \n",
      "+---------------------+-------+\n",
      "| Subscriber_trip_num | month |\n",
      "+---------------------+-------+\n",
      "|               80340 | 10    |\n",
      "|               80033 | 08    |\n",
      "|               79525 | 06    |\n",
      "|               76387 | 07    |\n",
      "|               74218 | 04    |\n",
      "|               73623 | 05    |\n",
      "|               71619 | 03    |\n",
      "|               70011 | 09    |\n",
      "|               64075 | 01    |\n",
      "|               63720 | 11    |\n",
      "|               62123 | 02    |\n",
      "|               51165 | 12    |\n",
      "+---------------------+-------+\n"
     ]
    }
   ],
   "source": [
    "! bq query --use_legacy_sql=false 'select count(trip_id) as Subscriber_trip_num, month from (SELECT trip_id, FORMAT_TIMESTAMP(\"%m\", start_date) as month from `bigquery-public-data.san_francisco.bikeshare_trips` where subscriber_type = \"Subscriber\") group by month order by Subscriber_trip_num DESC'"
   ]
  },
  {
   "cell_type": "code",
   "execution_count": 21,
   "metadata": {},
   "outputs": [
    {
     "name": "stdout",
     "output_type": "stream",
     "text": [
      "Waiting on bqjob_r1ec49467650053ae_00000174cc40d3d0_1 ... (0s) Current status: DONE   \n",
      "+-----------------------+-------+\n",
      "| Subscriber_trip_45min | month |\n",
      "+-----------------------+-------+\n",
      "|                 80047 | 10    |\n",
      "|                 79838 | 08    |\n",
      "|                 79269 | 06    |\n",
      "|                 76173 | 07    |\n",
      "|                 73977 | 04    |\n",
      "|                 73436 | 05    |\n",
      "|                 71347 | 03    |\n",
      "|                 69706 | 09    |\n",
      "|                 63845 | 01    |\n",
      "|                 63484 | 11    |\n",
      "|                 61914 | 02    |\n",
      "|                 50877 | 12    |\n",
      "+-----------------------+-------+\n"
     ]
    }
   ],
   "source": [
    "! bq query --use_legacy_sql=false 'select count(trip_id) as Subscriber_trip_45min, month from (SELECT trip_id, FORMAT_TIMESTAMP(\"%m\", start_date) as month from `bigquery-public-data.san_francisco.bikeshare_trips` where duration_sec < 2700 and subscriber_type = \"Subscriber\") group by month order by Subscriber_trip_45min DESC'"
   ]
  },
  {
   "cell_type": "code",
   "execution_count": 22,
   "metadata": {},
   "outputs": [
    {
     "name": "stdout",
     "output_type": "stream",
     "text": [
      "Waiting on bqjob_r2d95b148f276cc64_00000174cc4157f0_1 ... (0s) Current status: DONE   \n",
      "+---------------------+-------+\n",
      "| Customer_trip_45min | month |\n",
      "+---------------------+-------+\n",
      "|               13672 | 09    |\n",
      "|               12134 | 08    |\n",
      "|               10873 | 10    |\n",
      "|                9888 | 07    |\n",
      "|                9763 | 05    |\n",
      "|                9311 | 06    |\n",
      "|                7651 | 03    |\n",
      "|                7651 | 04    |\n",
      "|                7170 | 11    |\n",
      "|                6012 | 02    |\n",
      "|                5918 | 01    |\n",
      "|                5255 | 12    |\n",
      "+---------------------+-------+\n"
     ]
    }
   ],
   "source": [
    "! bq query --use_legacy_sql=false 'select count(trip_id) as Customer_trip_45min, month from (SELECT trip_id, FORMAT_TIMESTAMP(\"%m\", start_date) as month from `bigquery-public-data.san_francisco.bikeshare_trips` where duration_sec < 2700 and subscriber_type = \"Customer\") group by month order by Customer_trip_45min DESC'"
   ]
  },
  {
   "cell_type": "markdown",
   "metadata": {},
   "source": [
    "## Part 3 - Employ notebooks to synthesize query project results"
   ]
  },
  {
   "cell_type": "markdown",
   "metadata": {},
   "source": [
    "### Defination of Commuter trips\n",
    "\n",
    "Trips that satisfy following requirements are of higher probability that to be commuter trips\n",
    "\n",
    " - Subscriber type of the trip is subscriber.\n",
    " \n",
    " - Duration of trip is no longer than 45 minutes.\n",
    " \n",
    " - Start and end stations of trip are different. \n",
    " \n",
    " - Trips happen on weekdays (further investigation is required if considering working shift on the weekends)\n",
    " "
   ]
  },
  {
   "cell_type": "markdown",
   "metadata": {},
   "source": [
    "#### Creat of CSV file of commuter trips"
   ]
  },
  {
   "cell_type": "code",
   "execution_count": 26,
   "metadata": {},
   "outputs": [
    {
     "name": "stdout",
     "output_type": "stream",
     "text": [
      "Waiting on bqjob_r29f2023f0df1eaf9_00000174cc6c7b21_1 ... (0s) Current status: DONE   \n"
     ]
    }
   ],
   "source": [
    "! bq query --use_legacy_sql=FALSE --format=csv 'SELECT * FROM `bigquery-public-data.san_francisco.bikeshare_trips` where subscriber_type = \"Subscriber\" and duration_sec < 2700 and start_station_id != end_station_id' > data/result.csv"
   ]
  },
  {
   "cell_type": "code",
   "execution_count": null,
   "metadata": {},
   "outputs": [],
   "source": []
  },
  {
   "cell_type": "code",
   "execution_count": null,
   "metadata": {},
   "outputs": [],
   "source": [
    "%%bigquery my_panda_data_frame\n",
    "\n",
    "SELECT start_station_name, end_station_name, count(*) as trip_freq \n",
    "FROM `bigquery-public-data.san_francisco.bikeshare_trips` \n",
    "GROUP BY start_station_name, end_station_name \n",
    "ORDER BY trip_freq DESC LIMIT 5"
   ]
  }
 ],
 "metadata": {
  "environment": {
   "name": "tf2-gpu.2-1.m55",
   "type": "gcloud",
   "uri": "gcr.io/deeplearning-platform-release/tf2-gpu.2-1:m55"
  },
  "kernelspec": {
   "display_name": "Python 3",
   "language": "python",
   "name": "python3"
  },
  "language_info": {
   "codemirror_mode": {
    "name": "ipython",
    "version": 3
   },
   "file_extension": ".py",
   "mimetype": "text/x-python",
   "name": "python",
   "nbconvert_exporter": "python",
   "pygments_lexer": "ipython3",
   "version": "3.7.8"
  }
 },
 "nbformat": 4,
 "nbformat_minor": 4
}
