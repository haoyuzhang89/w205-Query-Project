{
 "cells": [
  {
   "cell_type": "markdown",
   "metadata": {},
   "source": []
  },
  {
   "cell_type": "markdown",
   "metadata": {},
   "source": [
    "(USE THESE TABLES!) The static tables we will be using in this class are in the dataset san_francisco :\n",
    "\n",
    "bikeshare_stations\n",
    "\n",
    "bikeshare_status\n",
    "\n",
    "bikeshare_trips"
   ]
  },
  {
   "cell_type": "markdown",
   "metadata": {},
   "source": [
    "## Part 1"
   ]
  },
  {
   "cell_type": "markdown",
   "metadata": {},
   "source": [
    "### Initial Questions\n",
    "\n",
    "1. What's the size of this dataset? (i.e., how many trips)\n",
    "\n",
    "```sql\n",
    "#standardSQL\n",
    "select count(station_id)\n",
    "from `bigquery-public-data.san_francisco.bikeshare_stations`\n",
    "```\n",
    "Row | StationsSize\t\n",
    "--- | ------------\n",
    "1\t| 74\n",
    "\n",
    "```sql \n",
    "#standardSQL\n",
    "select count(distinct station_id) as StationsNumber\n",
    "from `bigquery-public-data.san_francisco.bikeshare_stations`\n",
    "```\n",
    "Row | StationsNumber\n",
    "--- | --------------\n",
    "1\t| 74\n",
    "\n",
    "\n",
    "```sql\n",
    "#standardSQL\n",
    "select count(*) as StatusSize\n",
    "from `bigquery-public-data.san_francisco.bikeshare_status`\n",
    "```\n",
    "Row | StationsNumber\n",
    "--- | --------------\n",
    "1\t|107501619\n",
    "\n",
    "```sql\n",
    "#standardSQL\n",
    "select count(*) as TripsSize\n",
    "from `bigquery-public-data.san_francisco.bikeshare_trips`\n",
    "```\n",
    "Row | TripsSize\t\n",
    "--- | ---------\n",
    "1\t| 983648\n",
    "\n",
    "```sql\n",
    "#standardSQL\n",
    "select count(distinct trip_id) as TripsNumber\n",
    "from `bigquery-public-data.san_francisco.bikeshare_trips`\n",
    "```\n",
    "Row\t| TripsNumber\t\n",
    "--- | -----------\n",
    "1\t| 983648\n"
   ]
  },
  {
   "cell_type": "markdown",
   "metadata": {},
   "source": [
    "2. What is the earliest start date and time and latest end date and time for a trip?\n",
    "\n"
   ]
  },
  {
   "cell_type": "markdown",
   "metadata": {},
   "source": [
    "3. How many bikes are there?"
   ]
  },
  {
   "cell_type": "code",
   "execution_count": null,
   "metadata": {},
   "outputs": [],
   "source": []
  }
 ],
 "metadata": {
  "kernelspec": {
   "display_name": "Python 3",
   "language": "python",
   "name": "python3"
  },
  "language_info": {
   "codemirror_mode": {
    "name": "ipython",
    "version": 3
   },
   "file_extension": ".py",
   "mimetype": "text/x-python",
   "name": "python",
   "nbconvert_exporter": "python",
   "pygments_lexer": "ipython3",
   "version": "3.7.6"
  }
 },
 "nbformat": 4,
 "nbformat_minor": 4
}
